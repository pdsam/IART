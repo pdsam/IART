{
 "cells": [
  {
   "cell_type": "code",
   "execution_count": 2,
   "metadata": {},
   "outputs": [],
   "source": [
    "import pandas as pd\n",
    "import numpy as np\n",
    "import matplotlib as plt\n",
    "from matplotlib import pyplot\n",
    "import scipy as sp\n",
    "import sklearn\n",
    "from sklearn.metrics import average_precision_score\n",
    "from sklearn.metrics import roc_auc_score\n",
    "from sklearn.model_selection import GridSearchCV\n",
    "from sklearn.model_selection import train_test_split\n",
    "from sklearn.metrics import classification_report,confusion_matrix\n",
    "from sklearn.metrics import cohen_kappa_score\n",
    "from sklearn.linear_model import LogisticRegression\n",
    "from sklearn.tree import DecisionTreeClassifier\n",
    "from sklearn.ensemble import RandomForestRegressor\n",
    "from sklearn.ensemble import RandomForestClassifier\n",
    "from sklearn.neural_network import MLPClassifier"
   ]
  },
  {
   "cell_type": "code",
   "execution_count": 5,
   "metadata": {},
   "outputs": [
    {
     "name": "stdout",
     "output_type": "stream",
     "text": [
      "<class 'pandas.core.frame.DataFrame'>\n",
      "RangeIndex: 941009 entries, 0 to 941008\n",
      "Data columns (total 22 columns):\n",
      " #   Column         Non-Null Count   Dtype  \n",
      "---  ------         --------------   -----  \n",
      " 0   id_odsp        941009 non-null  object \n",
      " 1   id_event       941009 non-null  object \n",
      " 2   sort_order     941009 non-null  int64  \n",
      " 3   time           941009 non-null  int64  \n",
      " 4   text           941009 non-null  object \n",
      " 5   event_type     941009 non-null  int64  \n",
      " 6   event_type2    214293 non-null  float64\n",
      " 7   side           941009 non-null  int64  \n",
      " 8   event_team     941009 non-null  object \n",
      " 9   opponent       941009 non-null  object \n",
      " 10  player         880009 non-null  object \n",
      " 11  player2        291310 non-null  object \n",
      " 12  player_in      51715 non-null   object \n",
      " 13  player_out     51738 non-null   object \n",
      " 14  shot_place     227459 non-null  float64\n",
      " 15  shot_outcome   228498 non-null  float64\n",
      " 16  is_goal        941009 non-null  int64  \n",
      " 17  location       467067 non-null  float64\n",
      " 18  bodypart       229185 non-null  float64\n",
      " 19  assist_method  941009 non-null  int64  \n",
      " 20  situation      229137 non-null  float64\n",
      " 21  fast_break     941009 non-null  int64  \n",
      "dtypes: float64(6), int64(7), object(9)\n",
      "memory usage: 157.9+ MB\n",
      "<class 'pandas.core.frame.DataFrame'>\n",
      "RangeIndex: 10112 entries, 0 to 10111\n",
      "Data columns (total 18 columns):\n",
      " #   Column     Non-Null Count  Dtype  \n",
      "---  ------     --------------  -----  \n",
      " 0   id_odsp    10112 non-null  object \n",
      " 1   link_odsp  10112 non-null  object \n",
      " 2   adv_stats  10112 non-null  bool   \n",
      " 3   date       10112 non-null  object \n",
      " 4   league     10112 non-null  object \n",
      " 5   season     10112 non-null  int64  \n",
      " 6   country    10112 non-null  object \n",
      " 7   ht         10112 non-null  object \n",
      " 8   at         10112 non-null  object \n",
      " 9   fthg       10112 non-null  int64  \n",
      " 10  ftag       10112 non-null  int64  \n",
      " 11  odd_h      10112 non-null  float64\n",
      " 12  odd_d      10112 non-null  float64\n",
      " 13  odd_a      10112 non-null  float64\n",
      " 14  odd_over   977 non-null    float64\n",
      " 15  odd_under  977 non-null    float64\n",
      " 16  odd_bts    977 non-null    float64\n",
      " 17  odd_bts_n  977 non-null    float64\n",
      "dtypes: bool(1), float64(7), int64(3), object(7)\n",
      "memory usage: 1.3+ MB\n"
     ]
    }
   ],
   "source": [
    "filename = 'events.csv'\n",
    "events = pd.read_csv('football-events/events.csv')\n",
    "ginf = pd.read_csv('football-events/ginf.csv')\n",
    "events.info()\n",
    "ginf.info()"
   ]
  },
  {
   "cell_type": "code",
   "execution_count": 7,
   "metadata": {},
   "outputs": [
    {
     "name": "stdout",
     "output_type": "stream",
     "text": [
      "<class 'pandas.core.frame.DataFrame'>\n",
      "Int64Index: 941009 entries, 0 to 941008\n",
      "Data columns (total 38 columns):\n",
      " #   Column         Non-Null Count   Dtype  \n",
      "---  ------         --------------   -----  \n",
      " 0   id_event       941009 non-null  object \n",
      " 1   sort_order     941009 non-null  int64  \n",
      " 2   time           941009 non-null  int64  \n",
      " 3   text           941009 non-null  object \n",
      " 4   event_type     941009 non-null  int64  \n",
      " 5   event_type2    214293 non-null  float64\n",
      " 6   side           941009 non-null  int64  \n",
      " 7   event_team     941009 non-null  object \n",
      " 8   opponent       941009 non-null  object \n",
      " 9   player         880009 non-null  object \n",
      " 10  player2        291310 non-null  object \n",
      " 11  player_in      51715 non-null   object \n",
      " 12  player_out     51738 non-null   object \n",
      " 13  shot_place     227459 non-null  float64\n",
      " 14  shot_outcome   228498 non-null  float64\n",
      " 15  is_goal        941009 non-null  int64  \n",
      " 16  location       467067 non-null  float64\n",
      " 17  bodypart       229185 non-null  float64\n",
      " 18  assist_method  941009 non-null  int64  \n",
      " 19  situation      229137 non-null  float64\n",
      " 20  fast_break     941009 non-null  int64  \n",
      " 21  link_odsp      941009 non-null  object \n",
      " 22  adv_stats      941009 non-null  bool   \n",
      " 23  date           941009 non-null  object \n",
      " 24  league         941009 non-null  object \n",
      " 25  season         941009 non-null  int64  \n",
      " 26  country        941009 non-null  object \n",
      " 27  ht             941009 non-null  object \n",
      " 28  at             941009 non-null  object \n",
      " 29  fthg           941009 non-null  int64  \n",
      " 30  ftag           941009 non-null  int64  \n",
      " 31  odd_h          941009 non-null  float64\n",
      " 32  odd_d          941009 non-null  float64\n",
      " 33  odd_a          941009 non-null  float64\n",
      " 34  odd_over       98680 non-null   float64\n",
      " 35  odd_under      98680 non-null   float64\n",
      " 36  odd_bts        98680 non-null   float64\n",
      " 37  odd_bts_n      98680 non-null   float64\n",
      "dtypes: bool(1), float64(13), int64(10), object(14)\n",
      "memory usage: 273.7+ MB\n"
     ]
    }
   ],
   "source": [
    "joined = pd.merge(events,ginf,left_on='id_odsp',right_on='id_odsp', how='left').drop('id_odsp',axis=1)\n",
    "joined.info()"
   ]
  },
  {
   "cell_type": "code",
   "execution_count": 8,
   "metadata": {},
   "outputs": [
    {
     "name": "stdout",
     "output_type": "stream",
     "text": [
      "<class 'pandas.core.frame.DataFrame'>\n",
      "Int64Index: 941009 entries, 0 to 941008\n",
      "Data columns (total 23 columns):\n",
      " #   Column         Non-Null Count   Dtype  \n",
      "---  ------         --------------   -----  \n",
      " 0   id_event       941009 non-null  object \n",
      " 1   sort_order     941009 non-null  int64  \n",
      " 2   time           941009 non-null  int64  \n",
      " 3   text           941009 non-null  object \n",
      " 4   event_type     941009 non-null  int64  \n",
      " 5   event_type2    214293 non-null  float64\n",
      " 6   side           941009 non-null  int64  \n",
      " 7   event_team     941009 non-null  object \n",
      " 8   opponent       941009 non-null  object \n",
      " 9   player         880009 non-null  object \n",
      " 10  player2        291310 non-null  object \n",
      " 11  player_in      51715 non-null   object \n",
      " 12  player_out     51738 non-null   object \n",
      " 13  shot_place     227459 non-null  float64\n",
      " 14  shot_outcome   228498 non-null  float64\n",
      " 15  is_goal        941009 non-null  int64  \n",
      " 16  location       467067 non-null  float64\n",
      " 17  bodypart       229185 non-null  float64\n",
      " 18  assist_method  941009 non-null  int64  \n",
      " 19  situation      229137 non-null  float64\n",
      " 20  fast_break     941009 non-null  int64  \n",
      " 21  fthg           941009 non-null  int64  \n",
      " 22  ftag           941009 non-null  int64  \n",
      "dtypes: float64(6), int64(9), object(8)\n",
      "memory usage: 172.3+ MB\n"
     ]
    }
   ],
   "source": [
    "treated = joined.drop(['link_odsp','adv_stats','date','league','season','country','ht','at',\"odd_h\",\"odd_d\",\"odd_a\",\"odd_over\",\"odd_under\",\"odd_bts\",\"odd_bts_n\"],axis=1)\n",
    "treated.info()"
   ]
  },
  {
   "cell_type": "code",
   "execution_count": null,
   "metadata": {},
   "outputs": [],
   "source": []
  }
 ],
 "metadata": {
  "kernelspec": {
   "display_name": "Python 3",
   "language": "python",
   "name": "python3"
  },
  "language_info": {
   "codemirror_mode": {
    "name": "ipython",
    "version": 3
   },
   "file_extension": ".py",
   "mimetype": "text/x-python",
   "name": "python",
   "nbconvert_exporter": "python",
   "pygments_lexer": "ipython3",
   "version": "3.7.5"
  }
 },
 "nbformat": 4,
 "nbformat_minor": 4
}
