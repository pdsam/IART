{
 "cells": [
  {
   "cell_type": "code",
   "execution_count": 110,
   "metadata": {},
   "outputs": [
    {
     "output_type": "stream",
     "name": "stdout",
     "text": "<class 'pandas.core.frame.DataFrame'>\nRangeIndex: 10112 entries, 0 to 10111\nData columns (total 18 columns):\n #   Column     Non-Null Count  Dtype  \n---  ------     --------------  -----  \n 0   id_odsp    10112 non-null  object \n 1   link_odsp  10112 non-null  object \n 2   adv_stats  10112 non-null  bool   \n 3   date       10112 non-null  object \n 4   league     10112 non-null  object \n 5   season     10112 non-null  int64  \n 6   country    10112 non-null  object \n 7   ht         10112 non-null  object \n 8   at         10112 non-null  object \n 9   fthg       10112 non-null  int64  \n 10  ftag       10112 non-null  int64  \n 11  odd_h      10112 non-null  float64\n 12  odd_d      10112 non-null  float64\n 13  odd_a      10112 non-null  float64\n 14  odd_over   977 non-null    float64\n 15  odd_under  977 non-null    float64\n 16  odd_bts    977 non-null    float64\n 17  odd_bts_n  977 non-null    float64\ndtypes: bool(1), float64(7), int64(3), object(7)\nmemory usage: 1.3+ MB\n"
    }
   ],
   "source": [
    "import pandas as pd\n",
    "\n",
    "games = pd.read_csv('football-events/ginf.csv')\n",
    "unique_games = games['id_odsp'].nunique()\n",
    "games.info()"
   ]
  },
  {
   "cell_type": "code",
   "execution_count": 111,
   "metadata": {},
   "outputs": [
    {
     "output_type": "stream",
     "name": "stdout",
     "text": "<class 'pandas.core.frame.DataFrame'>\nRangeIndex: 941009 entries, 0 to 941008\nData columns (total 22 columns):\n #   Column         Non-Null Count   Dtype  \n---  ------         --------------   -----  \n 0   id_odsp        941009 non-null  object \n 1   id_event       941009 non-null  object \n 2   sort_order     941009 non-null  int64  \n 3   time           941009 non-null  int64  \n 4   text           941009 non-null  object \n 5   event_type     941009 non-null  int64  \n 6   event_type2    214293 non-null  float64\n 7   side           941009 non-null  int64  \n 8   event_team     941009 non-null  object \n 9   opponent       941009 non-null  object \n 10  player         880009 non-null  object \n 11  player2        291310 non-null  object \n 12  player_in      51715 non-null   object \n 13  player_out     51738 non-null   object \n 14  shot_place     227459 non-null  float64\n 15  shot_outcome   228498 non-null  float64\n 16  is_goal        941009 non-null  int64  \n 17  location       467067 non-null  float64\n 18  bodypart       229185 non-null  float64\n 19  assist_method  941009 non-null  int64  \n 20  situation      229137 non-null  float64\n 21  fast_break     941009 non-null  int64  \ndtypes: float64(6), int64(7), object(9)\nmemory usage: 157.9+ MB\n"
    }
   ],
   "source": [
    "events = pd.read_csv('football-events/events.csv')\n",
    "unique_documented_games = events['id_odsp'].nunique()\n",
    "events.info()"
   ]
  },
  {
   "cell_type": "code",
   "execution_count": 112,
   "metadata": {},
   "outputs": [
    {
     "output_type": "stream",
     "name": "stdout",
     "text": "Number of events = 941009\nNumber of events after merge = 941009\n"
    }
   ],
   "source": [
    "event_number = events['id_odsp'].size\n",
    "print(f'Number of events = {event_number}')\n",
    "merged_size = pd.merge(events, games, right_on='id_odsp', left_on='id_odsp', how='inner')['id_odsp'].size\n",
    "print(f'Number of events after merge = {merged_size}')"
   ]
  },
  {
   "cell_type": "markdown",
   "metadata": {},
   "source": [
    "This means that all events in the events table point to a game in the games table."
   ]
  },
  {
   "cell_type": "code",
   "execution_count": 113,
   "metadata": {},
   "outputs": [
    {
     "output_type": "stream",
     "name": "stdout",
     "text": "10112 unique games.\n9074 unique documented games.\n1038 games with missing data.\n"
    }
   ],
   "source": [
    "print(f'{unique_games} unique games.')\n",
    "print(f'{unique_documented_games} unique documented games.')\n",
    "print(f'{unique_games - unique_documented_games} games with missing data.')"
   ]
  },
  {
   "cell_type": "code",
   "execution_count": 114,
   "metadata": {},
   "outputs": [
    {
     "output_type": "stream",
     "name": "stdout",
     "text": "Games reportedly detailed data = 9182.\nEvents table is missing data from 108 games.\n"
    }
   ],
   "source": [
    "with_data = games.loc[( games['adv_stats'] == True )]\n",
    "games_with_data = with_data['id_odsp'].nunique()\n",
    "print(f'Games with reportedly detailed data = {games_with_data}.')\n",
    "print(f'Events table is missing data from {games_with_data - unique_documented_games} games.')"
   ]
  },
  {
   "cell_type": "code",
   "execution_count": null,
   "metadata": {},
   "outputs": [],
   "source": []
  }
 ],
 "metadata": {
  "language_info": {
   "codemirror_mode": {
    "name": "ipython",
    "version": 3
   },
   "file_extension": ".py",
   "mimetype": "text/x-python",
   "name": "python",
   "nbconvert_exporter": "python",
   "pygments_lexer": "ipython3",
   "version": "3.8.3-final"
  },
  "orig_nbformat": 2,
  "kernelspec": {
   "name": "python38364bit21955c9862c847da915478823df4eb4a",
   "display_name": "Python 3.8.3 64-bit"
  }
 },
 "nbformat": 4,
 "nbformat_minor": 2
}