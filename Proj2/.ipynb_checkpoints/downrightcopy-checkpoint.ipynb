{
 "cells": [
  {
   "cell_type": "code",
   "execution_count": 2,
   "metadata": {},
   "outputs": [],
   "source": [
    "import pandas as pd\n",
    "import numpy as np\n",
    "import matplotlib as plt\n",
    "from matplotlib import pyplot\n",
    "import scipy as sp\n",
    "import sklearn\n",
    "from sklearn.metrics import average_precision_score\n",
    "from sklearn.metrics import roc_auc_score\n",
    "from sklearn.model_selection import GridSearchCV\n",
    "from sklearn.model_selection import train_test_split\n",
    "from sklearn.metrics import classification_report,confusion_matrix\n",
    "from sklearn.metrics import cohen_kappa_score\n",
    "from sklearn.linear_model import LogisticRegression\n",
    "from sklearn.tree import DecisionTreeClassifier\n",
    "from sklearn.ensemble import RandomForestRegressor\n",
    "from sklearn.ensemble import RandomForestClassifier\n",
    "from sklearn.neural_network import MLPClassifier"
   ]
  },
  {
   "cell_type": "code",
   "execution_count": 3,
   "metadata": {},
   "outputs": [
    {
     "data": {
      "text/html": [
       "<style>.container { width:100% !important; }</style>"
      ],
      "text/plain": [
       "<IPython.core.display.HTML object>"
      ]
     },
     "metadata": {},
     "output_type": "display_data"
    }
   ],
   "source": [
    "from IPython.core.display import display, HTML\n",
    "display(HTML(\"<style>.container { width:100% !important; }</style>\"))"
   ]
  },
  {
   "cell_type": "code",
   "execution_count": 20,
   "metadata": {},
   "outputs": [],
   "source": [
    "events = pd.read_csv('football-events/events.csv')\n",
    "games = pd.read_csv('football-events/ginf.csv')\n",
    "shots = events[(events.event_type==1)]"
   ]
  },
  {
   "cell_type": "markdown",
   "metadata": {},
   "source": [
    "# Data Validation"
   ]
  },
  {
   "cell_type": "code",
   "execution_count": 5,
   "metadata": {},
   "outputs": [],
   "source": [
    "#Checks whether names are not invalid within the same game\n",
    "assert events.groupby(['id_odsp', 'side'])['event_team'].nunique().unique()[0] == 1"
   ]
  },
  {
   "cell_type": "markdown",
   "metadata": {},
   "source": [
    "# Data preparation and MLP instantiation"
   ]
  },
  {
   "cell_type": "code",
   "execution_count": 6,
   "metadata": {},
   "outputs": [],
   "source": [
    "shots_prediction = shots.iloc[:,-6:]\n",
    "dummies = pd.get_dummies(shots_prediction, columns=['location', 'bodypart','assist_method', 'situation'])\n",
    "dummies.columns = ['is_goal', 'fast_break', 'loc_centre_box', 'loc_diff_angle_lr', 'diff_angle_left', 'diff_angle_right', 'left_side_box', 'left_side_6ybox', 'right_side_box', 'right_side_6ybox', 'close_range', 'penalty', 'outside_box', 'long_range', 'more_35y', 'more_40y', 'not_recorded', 'right_foot', 'left_foot', 'header', 'no_assist', 'assist_pass', 'assist_cross', 'assist_header', 'assist_through_ball', 'open_play', 'set_piece', 'corner', 'free_kick']"
   ]
  },
  {
   "cell_type": "code",
   "execution_count": 7,
   "metadata": {},
   "outputs": [],
   "source": [
    "X = dummies.iloc[:,1:]\n",
    "y = dummies.iloc[:,0]"
   ]
  },
  {
   "cell_type": "code",
   "execution_count": 8,
   "metadata": {},
   "outputs": [
    {
     "name": "stdout",
     "output_type": "stream",
     "text": [
      "CPU times: user 26.8 s, sys: 13.2 ms, total: 26.9 s\n",
      "Wall time: 27 s\n"
     ]
    },
    {
     "data": {
      "text/plain": [
       "MLPClassifier(activation='relu', alpha=0.0001, batch_size='auto', beta_1=0.9,\n",
       "              beta_2=0.999, early_stopping=False, epsilon=1e-08,\n",
       "              hidden_layer_sizes=(28, 28, 28, 28), learning_rate='constant',\n",
       "              learning_rate_init=0.001, max_fun=15000, max_iter=2000,\n",
       "              momentum=0.9, n_iter_no_change=10, nesterovs_momentum=True,\n",
       "              power_t=0.5, random_state=0, shuffle=True, solver='adam',\n",
       "              tol=0.0001, validation_fraction=0.1, verbose=False,\n",
       "              warm_start=False)"
      ]
     },
     "execution_count": 8,
     "metadata": {},
     "output_type": "execute_result"
    }
   ],
   "source": [
    "%%time\n",
    "X_train, X_test, y_train, y_test = train_test_split(X, y, test_size=0.35, random_state=1)\n",
    "mlp = MLPClassifier(random_state=0, hidden_layer_sizes=(28, 28, 28, 28), max_iter=2000, activation='relu')\n",
    "mlp.fit(X_train, y_train)"
   ]
  },
  {
   "cell_type": "markdown",
   "metadata": {},
   "source": [
    "# Confustion Matrix and metrics analysis"
   ]
  },
  {
   "cell_type": "code",
   "execution_count": 9,
   "metadata": {},
   "outputs": [
    {
     "name": "stdout",
     "output_type": "stream",
     "text": [
      "Confusion Matrix:\n",
      "[[70771   923]\n",
      " [ 6214  2290]]\n",
      "Report:\n",
      "              precision    recall  f1-score   support\n",
      "\n",
      "           0       0.92      0.99      0.95     71694\n",
      "           1       0.71      0.27      0.39      8504\n",
      "\n",
      "    accuracy                           0.91     80198\n",
      "   macro avg       0.82      0.63      0.67     80198\n",
      "weighted avg       0.90      0.91      0.89     80198\n",
      "\n"
     ]
    }
   ],
   "source": [
    "predict = mlp.predict(X_test)\n",
    "print('Confusion Matrix:')\n",
    "print(confusion_matrix(y_test,predict))\n",
    "print('Report:')\n",
    "print(classification_report(y_test,predict))"
   ]
  },
  {
   "cell_type": "code",
   "execution_count": 10,
   "metadata": {},
   "outputs": [
    {
     "name": "stdout",
     "output_type": "stream",
     "text": [
      "The accuracy of classifying whether a shot is goal or not is 91.10 %.\n"
     ]
    }
   ],
   "source": [
    "accuracy = mlp.score(X_test, y_test)\n",
    "print('The accuracy of classifying whether a shot is goal or not is {:.2f} %.'.format(accuracy*100))"
   ]
  },
  {
   "cell_type": "code",
   "execution_count": null,
   "metadata": {},
   "outputs": [],
   "source": []
  },
  {
   "cell_type": "markdown",
   "metadata": {},
   "source": [
    "# Join xG with original dataset"
   ]
  },
  {
   "cell_type": "code",
   "execution_count": 11,
   "metadata": {},
   "outputs": [],
   "source": [
    "dummies['xG'] = mlp.predict_proba(X)[:,1]\n",
    "dummies = dummies[['xG']].copy()\n",
    "dataWithXG = shots.join(dummies[['xG']])\n",
    "matchXG = dataWithXG.groupby(['id_odsp', 'side'])['xG'].sum().reset_index()"
   ]
  },
  {
   "cell_type": "code",
   "execution_count": 12,
   "metadata": {},
   "outputs": [
    {
     "data": {
      "text/html": [
       "<div>\n",
       "<style scoped>\n",
       "    .dataframe tbody tr th:only-of-type {\n",
       "        vertical-align: middle;\n",
       "    }\n",
       "\n",
       "    .dataframe tbody tr th {\n",
       "        vertical-align: top;\n",
       "    }\n",
       "\n",
       "    .dataframe thead th {\n",
       "        text-align: right;\n",
       "    }\n",
       "</style>\n",
       "<table border=\"1\" class=\"dataframe\">\n",
       "  <thead>\n",
       "    <tr style=\"text-align: right;\">\n",
       "      <th></th>\n",
       "      <th>id_odsp</th>\n",
       "      <th>side</th>\n",
       "      <th>xG</th>\n",
       "    </tr>\n",
       "  </thead>\n",
       "  <tbody>\n",
       "    <tr>\n",
       "      <th>0</th>\n",
       "      <td>004f4ING/</td>\n",
       "      <td>1</td>\n",
       "      <td>1.413347</td>\n",
       "    </tr>\n",
       "    <tr>\n",
       "      <th>1</th>\n",
       "      <td>004f4ING/</td>\n",
       "      <td>2</td>\n",
       "      <td>0.453106</td>\n",
       "    </tr>\n",
       "    <tr>\n",
       "      <th>2</th>\n",
       "      <td>00LMl81F/</td>\n",
       "      <td>1</td>\n",
       "      <td>2.949324</td>\n",
       "    </tr>\n",
       "    <tr>\n",
       "      <th>3</th>\n",
       "      <td>00LMl81F/</td>\n",
       "      <td>2</td>\n",
       "      <td>1.608309</td>\n",
       "    </tr>\n",
       "    <tr>\n",
       "      <th>4</th>\n",
       "      <td>00OX4xFp/</td>\n",
       "      <td>1</td>\n",
       "      <td>1.166929</td>\n",
       "    </tr>\n",
       "    <tr>\n",
       "      <th>...</th>\n",
       "      <td>...</td>\n",
       "      <td>...</td>\n",
       "      <td>...</td>\n",
       "    </tr>\n",
       "    <tr>\n",
       "      <th>18139</th>\n",
       "      <td>zyKwAQxf/</td>\n",
       "      <td>2</td>\n",
       "      <td>1.218277</td>\n",
       "    </tr>\n",
       "    <tr>\n",
       "      <th>18140</th>\n",
       "      <td>zyrHmI8P/</td>\n",
       "      <td>1</td>\n",
       "      <td>2.183775</td>\n",
       "    </tr>\n",
       "    <tr>\n",
       "      <th>18141</th>\n",
       "      <td>zyrHmI8P/</td>\n",
       "      <td>2</td>\n",
       "      <td>1.008775</td>\n",
       "    </tr>\n",
       "    <tr>\n",
       "      <th>18142</th>\n",
       "      <td>zyzdxP10/</td>\n",
       "      <td>1</td>\n",
       "      <td>1.587103</td>\n",
       "    </tr>\n",
       "    <tr>\n",
       "      <th>18143</th>\n",
       "      <td>zyzdxP10/</td>\n",
       "      <td>2</td>\n",
       "      <td>2.439499</td>\n",
       "    </tr>\n",
       "  </tbody>\n",
       "</table>\n",
       "<p>18144 rows × 3 columns</p>\n",
       "</div>"
      ],
      "text/plain": [
       "         id_odsp  side        xG\n",
       "0      004f4ING/     1  1.413347\n",
       "1      004f4ING/     2  0.453106\n",
       "2      00LMl81F/     1  2.949324\n",
       "3      00LMl81F/     2  1.608309\n",
       "4      00OX4xFp/     1  1.166929\n",
       "...          ...   ...       ...\n",
       "18139  zyKwAQxf/     2  1.218277\n",
       "18140  zyrHmI8P/     1  2.183775\n",
       "18141  zyrHmI8P/     2  1.008775\n",
       "18142  zyzdxP10/     1  1.587103\n",
       "18143  zyzdxP10/     2  2.439499\n",
       "\n",
       "[18144 rows x 3 columns]"
      ]
     },
     "execution_count": 12,
     "metadata": {},
     "output_type": "execute_result"
    }
   ],
   "source": [
    "matchXG"
   ]
  },
  {
   "cell_type": "markdown",
   "metadata": {},
   "source": [
    "#### TODO: Insert nºAttempts nºCorners nºFouls nºFirst Yellow Card nº Second Yellow Cards, nº Red Cards, nº Free kicks nºoffside"
   ]
  },
  {
   "cell_type": "markdown",
   "metadata": {},
   "source": [
    "## Inserting the other dependend variables"
   ]
  },
  {
   "cell_type": "code",
   "execution_count": 88,
   "metadata": {},
   "outputs": [],
   "source": [
    "attempts = events[(events.event_type==1)].copy()\n",
    "attemptsSorted = shotsSorted.groupby(['id_odsp', 'side']).count().reset_index()\n",
    "shotsClean = shotsSorted.drop([\"sort_order\",\"time\",\"text\",\"event_type\",\"event_type2\",\"event_team\",\"opponent\",\"player\",\"player2\",\"player_in\",\"player_out\",\"shot_place\",\"shot_outcome\",\"is_goal\",\"location\",\"bodypart\",\"assist_method\",\"situation\",\"fast_break\"], axis=1).rename(columns={\"id_event\":\"shot_count\"})\n",
    "\n",
    "\n",
    "corners = events[(events.event_type==2)].copy()\n",
    "cornersSorted = corners.groupby(['id_odsp', 'side']).count().reset_index()\n",
    "cornersClean = cornersSorted.drop([\"sort_order\",\"time\",\"text\",\"event_type\",\"event_type2\",\"event_team\",\"opponent\",\"player\",\"player2\",\"player_in\",\"player_out\",\"shot_place\",\"shot_outcome\",\"is_goal\",\"location\",\"bodypart\",\"assist_method\",\"situation\",\"fast_break\"], axis=1).rename(columns={\"id_event\":\"corner_count\"})\n",
    "\n",
    "fouls = events[(events.event_type==3)].copy()\n",
    "foulsSorted = fouls.groupby(['id_odsp', 'side']).count().reset_index()\n",
    "foulsClean = foulsSorted.drop([\"sort_order\",\"time\",\"text\",\"event_type\",\"event_type2\",\"event_team\",\"opponent\",\"player\",\"player2\",\"player_in\",\"player_out\",\"shot_place\",\"shot_outcome\",\"is_goal\",\"location\",\"bodypart\",\"assist_method\",\"situation\",\"fast_break\"], axis=1).rename(columns={\"id_event\":\"foul_count\"})\n",
    "\n",
    "yellow_cards = events[(events.event_type==4)].copy()\n",
    "ycSorted = yellow_cards.groupby(['id_odsp', 'side']).count().reset_index()\n",
    "ycClean = ycSorted.drop([\"sort_order\",\"time\",\"text\",\"event_type\",\"event_type2\",\"event_team\",\"opponent\",\"player\",\"player2\",\"player_in\",\"player_out\",\"shot_place\",\"shot_outcome\",\"is_goal\",\"location\",\"bodypart\",\"assist_method\",\"situation\",\"fast_break\"], axis=1).rename(columns={\"id_event\":\"yellow_card_count\"})\n",
    "\n",
    "\n",
    "second_yellow_cards= events[(events.event_type==5)].copy()\n",
    "sycSorted = second_yellow_cards.groupby(['id_odsp', 'side']).count().reset_index()\n",
    "sycClean = sycSorted.drop([\"sort_order\",\"time\",\"text\",\"event_type\",\"event_type2\",\"event_team\",\"opponent\",\"player\",\"player2\",\"player_in\",\"player_out\",\"shot_place\",\"shot_outcome\",\"is_goal\",\"location\",\"bodypart\",\"assist_method\",\"situation\",\"fast_break\"], axis=1).rename(columns={\"id_event\":\"second_yellow_card_count\"})\n",
    "\n",
    "\n",
    "red_cards = events[(events.event_type==6)].copy()\n",
    "redCardsSorted = red_cards.groupby(['id_odsp', 'side']).count().reset_index()\n",
    "redCardsClean = redCardsSorted.drop([\"sort_order\",\"time\",\"text\",\"event_type\",\"event_type2\",\"event_team\",\"opponent\",\"player\",\"player2\",\"player_in\",\"player_out\",\"shot_place\",\"shot_outcome\",\"is_goal\",\"location\",\"bodypart\",\"assist_method\",\"situation\",\"fast_break\"], axis=1).rename(columns={\"id_event\":\"red_card_count\"})\n",
    "\n",
    "\n",
    "free_kicks = events[(events.event_type==8)].copy()\n",
    "fkSorted = free_kicks.groupby(['id_odsp', 'side']).count().reset_index()\n",
    "fkClean = fkSorted.drop([\"sort_order\",\"time\",\"text\",\"event_type\",\"event_type2\",\"event_team\",\"opponent\",\"player\",\"player2\",\"player_in\",\"player_out\",\"shot_place\",\"shot_outcome\",\"is_goal\",\"location\",\"bodypart\",\"assist_method\",\"situation\",\"fast_break\"], axis=1).rename(columns={\"id_event\":\"free_kick_count\"})\n",
    "\n",
    "\n",
    "offsides = events[(events.event_type==9)].copy()\n",
    "offsidesSorted = offsides.groupby(['id_odsp', 'side']).count().reset_index()\n",
    "offsidesClean = offsidesSorted.drop([\"sort_order\",\"time\",\"text\",\"event_type\",\"event_type2\",\"event_team\",\"opponent\",\"player\",\"player2\",\"player_in\",\"player_out\",\"shot_place\",\"shot_outcome\",\"is_goal\",\"location\",\"bodypart\",\"assist_method\",\"situation\",\"fast_break\"], axis=1).rename(columns={\"id_event\":\"offside_count\"})\n",
    "\n"
   ]
  },
  {
   "cell_type": "code",
   "execution_count": 89,
   "metadata": {},
   "outputs": [
    {
     "data": {
      "text/html": [
       "<div>\n",
       "<style scoped>\n",
       "    .dataframe tbody tr th:only-of-type {\n",
       "        vertical-align: middle;\n",
       "    }\n",
       "\n",
       "    .dataframe tbody tr th {\n",
       "        vertical-align: top;\n",
       "    }\n",
       "\n",
       "    .dataframe thead th {\n",
       "        text-align: right;\n",
       "    }\n",
       "</style>\n",
       "<table border=\"1\" class=\"dataframe\">\n",
       "  <thead>\n",
       "    <tr style=\"text-align: right;\">\n",
       "      <th></th>\n",
       "      <th>id_odsp</th>\n",
       "      <th>side</th>\n",
       "      <th>offside_count</th>\n",
       "    </tr>\n",
       "  </thead>\n",
       "  <tbody>\n",
       "    <tr>\n",
       "      <th>0</th>\n",
       "      <td>004f4ING/</td>\n",
       "      <td>2</td>\n",
       "      <td>3</td>\n",
       "    </tr>\n",
       "    <tr>\n",
       "      <th>1</th>\n",
       "      <td>00LMl81F/</td>\n",
       "      <td>2</td>\n",
       "      <td>6</td>\n",
       "    </tr>\n",
       "    <tr>\n",
       "      <th>2</th>\n",
       "      <td>00OX4xFp/</td>\n",
       "      <td>1</td>\n",
       "      <td>3</td>\n",
       "    </tr>\n",
       "    <tr>\n",
       "      <th>3</th>\n",
       "      <td>00QH2XdM/</td>\n",
       "      <td>2</td>\n",
       "      <td>2</td>\n",
       "    </tr>\n",
       "    <tr>\n",
       "      <th>4</th>\n",
       "      <td>00QL4t1L/</td>\n",
       "      <td>1</td>\n",
       "      <td>3</td>\n",
       "    </tr>\n",
       "    <tr>\n",
       "      <th>...</th>\n",
       "      <td>...</td>\n",
       "      <td>...</td>\n",
       "      <td>...</td>\n",
       "    </tr>\n",
       "    <tr>\n",
       "      <th>15645</th>\n",
       "      <td>zyKwAQxf/</td>\n",
       "      <td>2</td>\n",
       "      <td>2</td>\n",
       "    </tr>\n",
       "    <tr>\n",
       "      <th>15646</th>\n",
       "      <td>zyrHmI8P/</td>\n",
       "      <td>1</td>\n",
       "      <td>1</td>\n",
       "    </tr>\n",
       "    <tr>\n",
       "      <th>15647</th>\n",
       "      <td>zyrHmI8P/</td>\n",
       "      <td>2</td>\n",
       "      <td>3</td>\n",
       "    </tr>\n",
       "    <tr>\n",
       "      <th>15648</th>\n",
       "      <td>zyzdxP10/</td>\n",
       "      <td>1</td>\n",
       "      <td>3</td>\n",
       "    </tr>\n",
       "    <tr>\n",
       "      <th>15649</th>\n",
       "      <td>zyzdxP10/</td>\n",
       "      <td>2</td>\n",
       "      <td>4</td>\n",
       "    </tr>\n",
       "  </tbody>\n",
       "</table>\n",
       "<p>15650 rows × 3 columns</p>\n",
       "</div>"
      ],
      "text/plain": [
       "         id_odsp  side  offside_count\n",
       "0      004f4ING/     2              3\n",
       "1      00LMl81F/     2              6\n",
       "2      00OX4xFp/     1              3\n",
       "3      00QH2XdM/     2              2\n",
       "4      00QL4t1L/     1              3\n",
       "...          ...   ...            ...\n",
       "15645  zyKwAQxf/     2              2\n",
       "15646  zyrHmI8P/     1              1\n",
       "15647  zyrHmI8P/     2              3\n",
       "15648  zyzdxP10/     1              3\n",
       "15649  zyzdxP10/     2              4\n",
       "\n",
       "[15650 rows x 3 columns]"
      ]
     },
     "execution_count": 89,
     "metadata": {},
     "output_type": "execute_result"
    }
   ],
   "source": [
    "offsidesClean"
   ]
  },
  {
   "cell_type": "code",
   "execution_count": null,
   "metadata": {},
   "outputs": [],
   "source": []
  }
 ],
 "metadata": {
  "kernelspec": {
   "display_name": "Python 3",
   "language": "python",
   "name": "python3"
  },
  "language_info": {
   "codemirror_mode": {
    "name": "ipython",
    "version": 3
   },
   "file_extension": ".py",
   "mimetype": "text/x-python",
   "name": "python",
   "nbconvert_exporter": "python",
   "pygments_lexer": "ipython3",
   "version": "3.7.5"
  }
 },
 "nbformat": 4,
 "nbformat_minor": 4
}
