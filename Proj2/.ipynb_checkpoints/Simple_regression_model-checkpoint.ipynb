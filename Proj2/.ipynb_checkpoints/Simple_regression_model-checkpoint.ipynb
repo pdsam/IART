{
 "cells": [
  {
   "cell_type": "code",
   "execution_count": 2,
   "metadata": {},
   "outputs": [],
   "source": [
    "import pandas as pd\n",
    "import numpy as np\n",
    "import matplotlib as plt\n",
    "from matplotlib import pyplot\n",
    "import scipy as sp\n",
    "import sklearn\n",
    "from sklearn.metrics import average_precision_score\n",
    "from sklearn.metrics import roc_auc_score\n",
    "from sklearn.model_selection import GridSearchCV\n",
    "from sklearn.model_selection import train_test_split\n",
    "from sklearn.metrics import classification_report,confusion_matrix\n",
    "from sklearn.metrics import cohen_kappa_score\n",
    "from sklearn.linear_model import LogisticRegression\n",
    "from sklearn.tree import DecisionTreeClassifier\n",
    "from sklearn.ensemble import RandomForestRegressor\n",
    "from sklearn.ensemble import RandomForestClassifier\n",
    "from sklearn.neural_network import MLPClassifier"
   ]
  },
  {
   "cell_type": "code",
   "execution_count": 21,
   "metadata": {},
   "outputs": [
    {
     "name": "stdout",
     "output_type": "stream",
     "text": [
      "<class 'pandas.core.frame.DataFrame'>\n",
      "RangeIndex: 9074 entries, 0 to 9073\n",
      "Data columns (total 15 columns):\n",
      " #   Column               Non-Null Count  Dtype \n",
      "---  ------               --------------  ----- \n",
      " 0   id_odsp              9074 non-null   object\n",
      " 1   event_team           9074 non-null   object\n",
      " 2   opponent             9074 non-null   object\n",
      " 3   announcements        9074 non-null   int64 \n",
      " 4   attempts             9074 non-null   int64 \n",
      " 5   corners              9074 non-null   int64 \n",
      " 6   fouls                9074 non-null   int64 \n",
      " 7   yellow_cards         9074 non-null   int64 \n",
      " 8   second_yellow_cards  9074 non-null   int64 \n",
      " 9   red_cards            9074 non-null   int64 \n",
      " 10  substitutions        9074 non-null   int64 \n",
      " 11  won_free_kicks       9074 non-null   int64 \n",
      " 12  offsides             9074 non-null   int64 \n",
      " 13  handballs            9074 non-null   int64 \n",
      " 14  conceded_penalties   9074 non-null   int64 \n",
      "dtypes: int64(12), object(3)\n",
      "memory usage: 1.0+ MB\n"
     ]
    }
   ],
   "source": [
    "filename = 'events.csv'\n",
    "events = pd.read_csv('football-events/event_numbers.csv')\n",
    "teams = pd.read_csv('football-events/ginf.csv')\n",
    "events.info()"
   ]
  },
  {
   "cell_type": "code",
   "execution_count": 16,
   "metadata": {},
   "outputs": [
    {
     "data": {
      "text/plain": [
       "count    941009.000000\n",
       "mean          4.326575\n",
       "std           2.995313\n",
       "min           1.000000\n",
       "25%           2.000000\n",
       "50%           3.000000\n",
       "75%           8.000000\n",
       "max          11.000000\n",
       "Name: event_type, dtype: float64"
      ]
     },
     "execution_count": 16,
     "metadata": {},
     "output_type": "execute_result"
    }
   ],
   "source": [
    "event_types = events.iloc[:,5]\n",
    "event_types.describe()"
   ]
  },
  {
   "cell_type": "code",
   "execution_count": 17,
   "metadata": {},
   "outputs": [
    {
     "data": {
      "text/plain": [
       "8     237932\n",
       "3     232925\n",
       "1     229135\n",
       "2      91204\n",
       "7      51738\n",
       "9      43476\n",
       "4      39911\n",
       "10     10730\n",
       "11      2706\n",
       "6       1152\n",
       "5        100\n",
       "Name: event_type, dtype: int64"
      ]
     },
     "execution_count": 17,
     "metadata": {},
     "output_type": "execute_result"
    }
   ],
   "source": [
    "event_types.value_counts()"
   ]
  },
  {
   "cell_type": "code",
   "execution_count": null,
   "metadata": {},
   "outputs": [],
   "source": [
    "d = {}"
   ]
  }
 ],
 "metadata": {
  "kernelspec": {
   "display_name": "Python 3",
   "language": "python",
   "name": "python3"
  },
  "language_info": {
   "codemirror_mode": {
    "name": "ipython",
    "version": 3
   },
   "file_extension": ".py",
   "mimetype": "text/x-python",
   "name": "python",
   "nbconvert_exporter": "python",
   "pygments_lexer": "ipython3",
   "version": "3.7.5"
  }
 },
 "nbformat": 4,
 "nbformat_minor": 4
}
