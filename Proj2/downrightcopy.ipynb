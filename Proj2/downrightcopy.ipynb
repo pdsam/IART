{
 "cells": [
  {
   "cell_type": "code",
   "execution_count": 37,
   "metadata": {},
   "outputs": [],
   "source": [
    "import pandas as pd\n",
    "import numpy as np\n",
    "import matplotlib as plt\n",
    "from matplotlib import pyplot\n",
    "import scipy as sp\n",
    "import seaborn as sb\n",
    "import sklearn\n",
    "from sklearn.metrics import average_precision_score\n",
    "from sklearn.metrics import roc_auc_score\n",
    "from sklearn.model_selection import GridSearchCV\n",
    "from sklearn.model_selection import train_test_split\n",
    "from sklearn.metrics import classification_report,confusion_matrix,mean_squared_error, mean_absolute_error\n",
    "from sklearn.metrics import cohen_kappa_score\n",
    "from sklearn.tree import DecisionTreeClassifier\n",
    "from sklearn.ensemble import RandomForestRegressor\n",
    "from sklearn.linear_model import LogisticRegression\n",
    "from sklearn.neural_network import MLPClassifier, MLPRegressor\n",
    "from sklearn.tree import DecisionTreeRegressor\n",
    "from sklearn import tree"
   ]
  },
  {
   "cell_type": "code",
   "execution_count": 2,
   "metadata": {},
   "outputs": [
    {
     "data": {
      "text/html": [
       "<style>.container { width:100% !important; }</style>"
      ],
      "text/plain": [
       "<IPython.core.display.HTML object>"
      ]
     },
     "metadata": {},
     "output_type": "display_data"
    }
   ],
   "source": [
    "from IPython.core.display import display, HTML\n",
    "display(HTML(\"<style>.container { width:100% !important; }</style>\"))"
   ]
  },
  {
   "cell_type": "code",
   "execution_count": 3,
   "metadata": {},
   "outputs": [],
   "source": [
    "events = pd.read_csv('football-events/events.csv')\n",
    "games = pd.read_csv('football-events/ginf.csv')\n",
    "shots = events[(events.event_type==1)]"
   ]
  },
  {
   "cell_type": "markdown",
   "metadata": {},
   "source": [
    "# Data Validation"
   ]
  },
  {
   "cell_type": "code",
   "execution_count": 4,
   "metadata": {},
   "outputs": [],
   "source": [
    "#Checks whether names are not invalid within the same game\n",
    "assert events.groupby(['id_odsp', 'side'])['event_team'].nunique().unique()[0] == 1"
   ]
  },
  {
   "cell_type": "markdown",
   "metadata": {},
   "source": [
    "# Data preparation and MLP instantiation"
   ]
  },
  {
   "cell_type": "code",
   "execution_count": 5,
   "metadata": {},
   "outputs": [],
   "source": [
    "shots_prediction = shots.iloc[:,-6:]\n",
    "dummies = pd.get_dummies(shots_prediction, columns=['location', 'bodypart','assist_method', 'situation'])\n",
    "dummies.columns = ['is_goal', 'fast_break', 'loc_centre_box', 'loc_diff_angle_lr', 'diff_angle_left', 'diff_angle_right', 'left_side_box', 'left_side_6ybox', 'right_side_box', 'right_side_6ybox', 'close_range', 'penalty', 'outside_box', 'long_range', 'more_35y', 'more_40y', 'not_recorded', 'right_foot', 'left_foot', 'header', 'no_assist', 'assist_pass', 'assist_cross', 'assist_header', 'assist_through_ball', 'open_play', 'set_piece', 'corner', 'free_kick']"
   ]
  },
  {
   "cell_type": "code",
   "execution_count": 6,
   "metadata": {},
   "outputs": [
    {
     "name": "stdout",
     "output_type": "stream",
     "text": [
      "<class 'pandas.core.frame.DataFrame'>\n",
      "Int64Index: 229135 entries, 0 to 941006\n",
      "Data columns (total 6 columns):\n",
      " #   Column         Non-Null Count   Dtype  \n",
      "---  ------         --------------   -----  \n",
      " 0   is_goal        229135 non-null  int64  \n",
      " 1   location       229135 non-null  float64\n",
      " 2   bodypart       229135 non-null  float64\n",
      " 3   assist_method  229135 non-null  int64  \n",
      " 4   situation      229135 non-null  float64\n",
      " 5   fast_break     229135 non-null  int64  \n",
      "dtypes: float64(3), int64(3)\n",
      "memory usage: 12.2 MB\n"
     ]
    }
   ],
   "source": [
    "shots_prediction.info()"
   ]
  },
  {
   "cell_type": "code",
   "execution_count": 7,
   "metadata": {},
   "outputs": [],
   "source": [
    "X = dummies.iloc[:,1:]\n",
    "y = dummies.iloc[:,0]"
   ]
  },
  {
   "cell_type": "code",
   "execution_count": 8,
   "metadata": {},
   "outputs": [
    {
     "name": "stdout",
     "output_type": "stream",
     "text": [
      "Wall time: 32.5 s\n"
     ]
    },
    {
     "data": {
      "text/plain": [
       "MLPClassifier(hidden_layer_sizes=(28, 28, 28, 28), max_iter=2000,\n",
       "              random_state=0)"
      ]
     },
     "execution_count": 8,
     "metadata": {},
     "output_type": "execute_result"
    }
   ],
   "source": [
    "%%time\n",
    "X_train, X_test, y_train, y_test = train_test_split(X, y, test_size=0.35, random_state=1)\n",
    "mlp = MLPClassifier(random_state=0, hidden_layer_sizes=(28, 28, 28, 28), max_iter=2000, activation='relu')\n",
    "mlp.fit(X_train, y_train)"
   ]
  },
  {
   "cell_type": "markdown",
   "metadata": {},
   "source": [
    "# Confustion Matrix and metrics analysis"
   ]
  },
  {
   "cell_type": "code",
   "execution_count": 9,
   "metadata": {},
   "outputs": [
    {
     "name": "stdout",
     "output_type": "stream",
     "text": [
      "Confusion Matrix:\n",
      "[[70771   923]\n",
      " [ 6214  2290]]\n",
      "Report:\n",
      "              precision    recall  f1-score   support\n",
      "\n",
      "           0       0.92      0.99      0.95     71694\n",
      "           1       0.71      0.27      0.39      8504\n",
      "\n",
      "    accuracy                           0.91     80198\n",
      "   macro avg       0.82      0.63      0.67     80198\n",
      "weighted avg       0.90      0.91      0.89     80198\n",
      "\n"
     ]
    }
   ],
   "source": [
    "predict = mlp.predict(X_test)\n",
    "print('Confusion Matrix:')\n",
    "print(confusion_matrix(y_test,predict))\n",
    "print('Report:')\n",
    "print(classification_report(y_test,predict))"
   ]
  },
  {
   "cell_type": "code",
   "execution_count": 10,
   "metadata": {},
   "outputs": [
    {
     "name": "stdout",
     "output_type": "stream",
     "text": [
      "The accuracy of classifying whether a shot is goal or not is 91.10 %.\n"
     ]
    }
   ],
   "source": [
    "accuracy = mlp.score(X_test, y_test)\n",
    "print('The accuracy of classifying whether a shot is goal or not is {:.2f} %.'.format(accuracy*100))"
   ]
  },
  {
   "cell_type": "markdown",
   "metadata": {},
   "source": [
    "# Join xG with original dataset"
   ]
  },
  {
   "cell_type": "code",
   "execution_count": 11,
   "metadata": {},
   "outputs": [],
   "source": [
    "dummies['xG'] = mlp.predict_proba(X)[:,1]\n",
    "dummies = dummies[['xG']].copy()\n",
    "dataWithXG = shots.join(dummies[['xG']])\n",
    "matchXG = dataWithXG.groupby(['id_odsp', 'side'])['xG'].sum().reset_index()"
   ]
  },
  {
   "cell_type": "markdown",
   "metadata": {},
   "source": [
    "## Inserting the other dependend variables"
   ]
  },
  {
   "cell_type": "code",
   "execution_count": 12,
   "metadata": {},
   "outputs": [],
   "source": [
    "# Number of shots\n",
    "attempts = events[(events.event_type==1)]\n",
    "shotsSorted = attempts.groupby(['id_odsp', 'side']).count().reset_index()\n",
    "shotsClean = shotsSorted[['id_odsp', 'side', 'id_event']].rename(columns={\"id_event\":\"shot_count\"})\n",
    "\n",
    "# Number of corners\n",
    "corners = events[(events.event_type==2)]\n",
    "cornersSorted = corners.groupby(['id_odsp', 'side']).count().reset_index()\n",
    "cornersClean = cornersSorted[['id_odsp', 'side', 'id_event']].rename(columns={\"id_event\":\"corner_count\"})\n",
    "\n",
    "# Number of fouls\n",
    "fouls = events[(events.event_type==3)]\n",
    "foulsSorted = fouls.groupby(['id_odsp', 'side']).count().reset_index()\n",
    "foulsClean = foulsSorted[['id_odsp', 'side', 'id_event']].rename(columns={\"id_event\":\"foul_count\"})\n",
    "\n",
    "# Number of yellow cards\n",
    "yellow_cards = events[(events.event_type==4)]\n",
    "ycSorted = yellow_cards.groupby(['id_odsp', 'side']).count().reset_index()\n",
    "ycClean = ycSorted[['id_odsp', 'side', 'id_event']].rename(columns={\"id_event\":\"yellow_card_count\"})\n",
    "\n",
    "# Number of second yellow cards\n",
    "second_yellow_cards= events[(events.event_type==5)]\n",
    "sycSorted = second_yellow_cards.groupby(['id_odsp', 'side']).count().reset_index()\n",
    "sycClean = sycSorted[['id_odsp', 'side', 'id_event']].rename(columns={\"id_event\":\"second_yellow_card_count\"})\n",
    "\n",
    "# Number of red cards\n",
    "red_cards = events[(events.event_type==6)]\n",
    "redCardsSorted = red_cards.groupby(['id_odsp', 'side']).count().reset_index()\n",
    "redCardsClean = redCardsSorted[['id_odsp', 'side', 'id_event']].rename(columns={\"id_event\":\"red_card_count\"})\n",
    "\n",
    "# Number of freekicks\n",
    "free_kicks = events[(events.event_type==8)]\n",
    "fkSorted = free_kicks.groupby(['id_odsp', 'side']).count().reset_index()\n",
    "fkClean = fkSorted[['id_odsp', 'side', 'id_event']].rename(columns={\"id_event\":\"free_kick_count\"})\n",
    "\n",
    "# Number of offsides\n",
    "offsides = events[(events.event_type==9)].copy()\n",
    "offsidesSorted = offsides.groupby(['id_odsp', 'side']).count().reset_index()\n",
    "offsidesClean = offsidesSorted[['id_odsp', 'side', 'id_event']].rename(columns={\"id_event\":\"offside_count\"})\n",
    "\n"
   ]
  },
  {
   "cell_type": "code",
   "execution_count": 13,
   "metadata": {},
   "outputs": [],
   "source": [
    "#Joins results\n",
    "joinColumns = ['id_odsp', 'side']\n",
    "\n",
    "fullDataset = matchXG\n",
    "\n",
    "fullDataset = fullDataset.merge(shotsClean, on=joinColumns, how='left') \n",
    "fullDataset = fullDataset.merge(cornersClean, on=joinColumns, how='left') \n",
    "fullDataset = fullDataset.merge(ycClean, on=joinColumns, how='left') \n",
    "fullDataset = fullDataset.merge(sycClean, on=joinColumns, how='left') \n",
    "fullDataset = fullDataset.merge(redCardsClean, on=joinColumns, how='left') \n",
    "fullDataset = fullDataset.merge(fkClean, on=joinColumns, how='left') \n",
    "fullDataset = fullDataset.merge(offsidesClean, on=joinColumns, how='left') \n",
    "fullDataset= fullDataset.merge(events[['id_odsp', 'side', 'event_team']].drop_duplicates(), on=joinColumns, how='left')\n",
    "fullDataset = fullDataset.fillna(0)\n",
    "\n",
    "for column in fullDataset.columns:\n",
    "    if column.endswith('_count'):\n",
    "        fullDataset[column] = fullDataset[column].astype(int)\n",
    "\n",
    "\n",
    "\n"
   ]
  },
  {
   "cell_type": "code",
   "execution_count": 14,
   "metadata": {},
   "outputs": [],
   "source": [
    "homeGoals = games[['id_odsp', 'fthg']].rename(columns={'fthg':'goals'})\n",
    "homeGoals.insert(2, 'side', 1)\n",
    "awayGoals = games[['id_odsp', 'ftag']].rename(columns={'ftag':'goals'})\n",
    "awayGoals.insert(2, 'side', 2)\n",
    "totalGoals = homeGoals.append(awayGoals)\n",
    "fullDataset = fullDataset.merge(totalGoals, on=joinColumns, how='left')"
   ]
  },
  {
   "cell_type": "code",
   "execution_count": 15,
   "metadata": {},
   "outputs": [],
   "source": [
    "fullDataset['other_side'] = fullDataset['side'].apply(lambda x: 2 if x == 1 else 1)"
   ]
  },
  {
   "cell_type": "code",
   "execution_count": 16,
   "metadata": {},
   "outputs": [],
   "source": [
    "teamNames = fullDataset[['id_odsp', 'event_team', 'side']].rename(columns={'event_team':'other_event_team', 'side':'other_side'})\n",
    "fullDataset = fullDataset.merge(teamNames, on=['id_odsp', 'other_side'], how='left').drop(columns=['other_side'])"
   ]
  },
  {
   "cell_type": "markdown",
   "metadata": {},
   "source": [
    "# Analysing Data"
   ]
  },
  {
   "cell_type": "markdown",
   "metadata": {},
   "source": [
    "# Regression"
   ]
  },
  {
   "cell_type": "markdown",
   "metadata": {},
   "source": [
    "## Data preparing"
   ]
  },
  {
   "cell_type": "code",
   "execution_count": 17,
   "metadata": {},
   "outputs": [],
   "source": [
    "fullDataset['event_team'] = fullDataset['event_team'].apply(hash)\n",
    "fullDataset['other_event_team'] = fullDataset['other_event_team'].apply(hash)\n",
    "colunas = list(fullDataset.columns)\n",
    "colunas.remove('goals')\n",
    "colunas.remove('id_odsp')\n",
    "fullX = fullDataset[colunas]\n",
    "fullY = fullDataset[['goals']].values.ravel()"
   ]
  },
  {
   "cell_type": "code",
   "execution_count": 18,
   "metadata": {},
   "outputs": [],
   "source": [
    "from itertools import combinations\n",
    "columnList = []\n",
    "for i in range(len(fullX.columns)):\n",
    "    columnList.extend( map(lambda x: list(x), sorted(list(combinations(fullX.columns, i+1))))    ) "
   ]
  },
  {
   "cell_type": "markdown",
   "metadata": {},
   "source": [
    "## Finder Function"
   ]
  },
  {
   "cell_type": "code",
   "execution_count": 19,
   "metadata": {},
   "outputs": [],
   "source": [
    "def finder(model):\n",
    "    results = []\n",
    "    for i,entry in enumerate(columnList):\n",
    "        print(f'\\rTrying for {i} out of {len(columnList)-1}', end='')\n",
    "        fullXTrain, fullXTest, fullYTrain, fullYTest = train_test_split(fullX[entry], fullY, test_size=0.35, random_state=1)\n",
    "        model.fit(fullXTrain, fullYTrain)\n",
    "        results.append((model.score(fullXTest, fullYTest), entry))\n",
    "    results.sort(reverse=True)\n",
    "    results"
   ]
  },
  {
   "cell_type": "code",
   "execution_count": 43,
   "metadata": {},
   "outputs": [],
   "source": [
    "def adjusted_r2(r2, mod):\n",
    "    return (1 - (1 - r2) * ((mod.shape[0] - 1) / \n",
    "          (mod.shape[0] - mod.shape[1] - 1)))"
   ]
  },
  {
   "cell_type": "markdown",
   "metadata": {},
   "source": [
    "## Models"
   ]
  },
  {
   "cell_type": "markdown",
   "metadata": {},
   "source": [
    "### Random Forest"
   ]
  },
  {
   "cell_type": "code",
   "execution_count": 54,
   "metadata": {},
   "outputs": [
    {
     "name": "stdout",
     "output_type": "stream",
     "text": [
      "r2=0.375093756646799 adjR2=0.3742068056626989 absErr=0.7649132991508495 sqErr=0.9584023175271174\n",
      "Wall time: 1.04 s\n"
     ]
    }
   ],
   "source": [
    "%%time\n",
    "fullXTrain, fullXTest, fullYTrain, fullYTest = train_test_split(fullX.drop(columns=['event_team', 'other_event_team']), fullY, test_size=0.35, random_state=1)\n",
    "randForest = RandomForestRegressor(max_depth=5)\n",
    "randForest.fit(fullXTrain, fullYTrain)\n",
    "\n",
    "\n",
    "predict = randForest.predict(fullXTest)\n",
    "r2 = randForest.score(fullXTest, fullYTest)\n",
    "absErr = mean_absolute_error(fullYTest,predict)\n",
    "sqErr = mean_squared_error(fullYTest,predict)\n",
    "adjR2 = adjusted_r2(r2, fullXTest)\n",
    "\n",
    "print(f'{r2=} {adjR2=} {absErr=} {sqErr=}')"
   ]
  },
  {
   "cell_type": "markdown",
   "metadata": {},
   "source": [
    "### Multi-layered Percepton"
   ]
  },
  {
   "cell_type": "code",
   "execution_count": 47,
   "metadata": {},
   "outputs": [
    {
     "name": "stdout",
     "output_type": "stream",
     "text": [
      "r2=0.3842637012867849 adjR2=0.38338976552138215 absErr=0.758131660258145 sqErr=0.9443386139107165\n",
      "Wall time: 3.52 s\n"
     ]
    }
   ],
   "source": [
    "%%time\n",
    "fullXTrain, fullXTest, fullYTrain, fullYTest = train_test_split(fullX.drop(columns=['other_event_team','event_team']), fullY, test_size=0.35, random_state=1)\n",
    "mlpReg = MLPRegressor()\n",
    "mlpReg.fit(fullXTrain, fullYTrain)\n",
    "\n",
    "\n",
    "predict = mlpReg.predict(fullXTest)\n",
    "r2 = mlpReg.score(fullXTest, fullYTest)\n",
    "absErr = mean_absolute_error(fullYTest,predict)\n",
    "sqErr = mean_squared_error(fullYTest,predict)\n",
    "adjR2 = adjusted_r2(r2, fullXTest)\n",
    "\n",
    "print(f'{r2=} {adjR2=} {absErr=} {sqErr=}')"
   ]
  },
  {
   "cell_type": "markdown",
   "metadata": {},
   "source": [
    "### Support Vector Machines - Regression"
   ]
  },
  {
   "cell_type": "code",
   "execution_count": 48,
   "metadata": {},
   "outputs": [
    {
     "name": "stdout",
     "output_type": "stream",
     "text": [
      "r2=0.36784983925948056 adjR2=0.3669526067335912 absErr=0.7557235666113568 sqErr=0.9695121236553577\n",
      "Wall time: 1.56 s\n"
     ]
    }
   ],
   "source": [
    "%%time\n",
    "from sklearn import svm\n",
    "fullXTrain, fullXTest, fullYTrain, fullYTest = train_test_split(fullX.drop(columns=['other_event_team','event_team']), fullY, test_size=0.35, random_state=1)\n",
    "svm = svm.LinearSVR(max_iter=40000)\n",
    "svm.fit(fullXTrain, fullYTrain)\n",
    "\n",
    "\n",
    "predict = svm.predict(fullXTest)\n",
    "r2 = svm.score(fullXTest, fullYTest)\n",
    "absErr = mean_absolute_error(fullYTest,predict)\n",
    "sqErr = mean_squared_error(fullYTest,predict)\n",
    "adjR2 = adjusted_r2(r2, fullXTest)\n",
    "\n",
    "print(f'{r2=} {adjR2=} {absErr=} {sqErr=}')"
   ]
  },
  {
   "cell_type": "markdown",
   "metadata": {},
   "source": [
    "### Decision Trees"
   ]
  },
  {
   "cell_type": "code",
   "execution_count": 49,
   "metadata": {},
   "outputs": [
    {
     "name": "stdout",
     "output_type": "stream",
     "text": [
      "r2=0.351361636870826 adjR2=0.35044100207061113 absErr=0.7758382314746908 sqErr=0.9947996472626568\n",
      "Wall time: 25 ms\n"
     ]
    }
   ],
   "source": [
    "%%time\n",
    "fullXTrain, fullXTest, fullYTrain, fullYTest = train_test_split(fullX.drop(columns=['event_team', 'other_event_team']), fullY, test_size=0.35, random_state=1)\n",
    "decTree = tree.DecisionTreeRegressor(max_depth=5)\n",
    "decTree.fit(fullXTrain, fullYTrain)\n",
    "\n",
    "\n",
    "predict = decTree.predict(fullXTest)\n",
    "r2 = decTree.score(fullXTest, fullYTest)\n",
    "absErr = mean_absolute_error(fullYTest,predict)\n",
    "sqErr = mean_squared_error(fullYTest,predict)\n",
    "adjR2 = adjusted_r2(r2, fullXTest)\n",
    "\n",
    "print(f'{r2=} {adjR2=} {absErr=} {sqErr=}')"
   ]
  },
  {
   "cell_type": "code",
   "execution_count": 50,
   "metadata": {},
   "outputs": [],
   "source": [
    "import graphviz"
   ]
  },
  {
   "cell_type": "code",
   "execution_count": 51,
   "metadata": {},
   "outputs": [
    {
     "data": {
      "text/plain": [
       "'image.pdf'"
      ]
     },
     "execution_count": 51,
     "metadata": {},
     "output_type": "execute_result"
    }
   ],
   "source": [
    "dot_data = tree.export_graphviz(decTree,out_file=None,feature_names=fullXTrain.columns,class_names=True)\n",
    "graph = graphviz.Source(dot_data)\n",
    "graph.render(\"dec\n",
    "             Tree\",view=True)"
   ]
  },
  {
   "cell_type": "code",
   "execution_count": null,
   "metadata": {},
   "outputs": [],
   "source": []
  }
 ],
 "metadata": {
  "kernelspec": {
   "display_name": "Python 3",
   "language": "python",
   "name": "python3"
  },
  "language_info": {
   "codemirror_mode": {
    "name": "ipython",
    "version": 3
   },
   "file_extension": ".py",
   "mimetype": "text/x-python",
   "name": "python",
   "nbconvert_exporter": "python",
   "pygments_lexer": "ipython3",
   "version": "3.7.5"
  }
 },
 "nbformat": 4,
 "nbformat_minor": 4
}
