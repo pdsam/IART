{
 "cells": [
  {
   "cell_type": "markdown",
   "metadata": {},
   "source": [
    "# Comparing diferent machine learning techniques to predict football results\n",
    "# - Authors and affiliations\n",
    "- Abstract\n",
    "- 1. Introduction"
   ]
  },
  {
   "cell_type": "markdown",
   "metadata": {},
   "source": [
    "# 1. Introduction\n",
    "\n",
    "As one of the most popular sports on the planet, football has always been followed\n",
    "very closely by a large number of people. In recent years, new types of data have\n",
    "been collected for many games in various countries, such as play-by-play data including information on each shot or pass made in a match.\n",
    "\n",
    "Information like this can be found in datasets like [the Football Events dataset](https://datasetsearch.research.google.com/search?docid=beC2NjeMuiLj9GvLAAAAAA%3D%3D) found on kaggle.\n",
    "\n",
    "This projects objective is to use the above mentioned dataset to predict the number of goals on a football game using Regression algorithms.\n",
    "This paper will start with an explanation and analysis of the used dataset, followed by an explanation of the approach the was decided to be used.\n",
    "\n",
    "Tests will be performed on the developed models and explanation for the results will be given at the end."
   ]
  },
  {
   "cell_type": "markdown",
   "metadata": {},
   "source": [
    "# 2. Description of the problem/dataset\n",
    "\n",
    "Our data set has two files of data and one dictionary. The first file (events.csv) gives information on all the\n",
    "recorded events with 941,009 events for 9,074 games. The second file (ginf.csv) gives the details of the\n",
    "odds for the games recorded in the first file . for each league we have information on the seasons\n",
    "from 2012 to 2017 except the English league which information only starts in the season 2014.\n",
    "The dictionary helps us to understands the values in some of the columns of the events table.\n",
    "\n",
    "We will focus more on the first table which will be the most useful since we not using odds.\n",
    "\n",
    "## 2.1. events.csv Columns\n",
    "\n",
    "1. id odsp : Unique identifier of the game (odsp stands from oddsportal.com)\n",
    "2. id event : Unique identifier of event (id odsp + sort order)\n",
    "3. sort order : Chronological sequence of events in a game\n",
    "4. time : Minute of the game when the event happened\n",
    "5. text : Text commentary\n",
    "6. event type : Primary event. 11 unique events (1-Attempt(shot), 2-Corner, 3-Foul, 4-Yellow Card, 5-Second Yellow Card, 6-(Straight) Red Card, 7-Substitution, 8-Free Kick Won, 9-Offside, 10-Hand Ball, 11-Penalty conceded)\n",
    "7. event type2 : Cecondary event. 4 unique events (12 - Key Pass, 13 - Failed through ball, 14-Sending off, 15-Own goal)\n",
    "8. side : 1-Home, 2-Away\n",
    "9. event team : Team that produced the event. In case of Own goals, event team is the team that benefited from the own goal\n",
    "10. opponent : Team that the event happened against\n",
    "11. player : Name of the player involved in main event (converted to lowercase and special\n",
    "chars were removed)\n",
    "12. player2 : Name of player involved in secondary event 8\n",
    "13. player in : Player that came in (only applies to substitutions)\n",
    "14. player out : Player substituted (only applies to substitutions)\n",
    "15. shot place : Placement of the shot (13 possible placement locations, available in the\n",
    "dictionary, only applies to shots)\n",
    "16. shot outcome : 4 possible outcomes (1-On target, 2-Off target, 3-Blocked, 4-Hit the post)\n",
    "17. is goal : Binary variable if the shot resulted in a goal (own goals included)\n",
    "18. location : Location on the pitch where the event happened (19 possible locations, available\n",
    "in the dictionary)\n",
    "19. bodypart : (1- right foot, 2-left foot, 3-head)\n",
    "20. assist method : In case of an assisted shot, 5 possible assist methods (details in the dictionary)\n",
    "21. situation : 4 types: 1-Open Play, 2-Set piece (excluding Direct Free kicks), 3-Corner, 4-Free kick"
   ]
  },
  {
   "cell_type": "markdown",
   "metadata": {},
   "source": [
    "## 2.2 Loading the Data"
   ]
  },
  {
   "cell_type": "code",
   "execution_count": 1,
   "metadata": {},
   "outputs": [],
   "source": [
    "import pandas as pd\n",
    "import numpy as np\n",
    "import matplotlib as plt\n",
    "from matplotlib import pyplot\n",
    "import scipy as sp\n",
    "import seaborn as sb"
   ]
  },
  {
   "cell_type": "markdown",
   "metadata": {},
   "source": [
    "From the website we also know that the missing values are set as 'NA'so we should treat them as such"
   ]
  },
  {
   "cell_type": "code",
   "execution_count": 2,
   "metadata": {},
   "outputs": [],
   "source": [
    "events = pd.read_csv('football-events/events.csv',na_values=['NA'])\n",
    "games = pd.read_csv('football-events/ginf.csv',na_values=['NA'])"
   ]
  },
  {
   "cell_type": "code",
   "execution_count": 3,
   "metadata": {},
   "outputs": [
    {
     "output_type": "execute_result",
     "data": {
      "text/plain": "          sort_order           time     event_type    event_type2  \\\ncount  941009.000000  941009.000000  941009.000000  214293.000000   \nmean       53.858826      49.663663       4.326575      12.233764   \nstd        32.014268      26.488977       2.995313       0.468850   \nmin         1.000000       0.000000       1.000000      12.000000   \n25%        27.000000      27.000000       2.000000      12.000000   \n50%        53.000000      51.000000       3.000000      12.000000   \n75%        79.000000      73.000000       8.000000      12.000000   \nmax       180.000000     100.000000      11.000000      15.000000   \n\n                side     shot_place   shot_outcome        is_goal  \\\ncount  941009.000000  227459.000000  228498.000000  941009.000000   \nmean        1.481170       5.733693       1.926555       0.025978   \nstd         0.499646       3.326100       0.797055       0.159071   \nmin         1.000000       1.000000       1.000000       0.000000   \n25%         1.000000       2.000000       1.000000       0.000000   \n50%         1.000000       5.000000       2.000000       0.000000   \n75%         2.000000       9.000000       3.000000       0.000000   \nmax         2.000000      13.000000       4.000000       1.000000   \n\n            location       bodypart  assist_method      situation  \\\ncount  467067.000000  229185.000000  941009.000000  229137.000000   \nmean        6.209073       1.624831       0.264332       1.281316   \nstd         5.421736       0.740400       0.655501       0.709394   \nmin         1.000000       1.000000       0.000000       1.000000   \n25%         2.000000       1.000000       0.000000       1.000000   \n50%         3.000000       1.000000       0.000000       1.000000   \n75%        11.000000       2.000000       0.000000       1.000000   \nmax        19.000000       3.000000       4.000000       4.000000   \n\n          fast_break  \ncount  941009.000000  \nmean        0.004876  \nstd         0.069655  \nmin         0.000000  \n25%         0.000000  \n50%         0.000000  \n75%         0.000000  \nmax         1.000000  ",
      "text/html": "<div>\n<style scoped>\n    .dataframe tbody tr th:only-of-type {\n        vertical-align: middle;\n    }\n\n    .dataframe tbody tr th {\n        vertical-align: top;\n    }\n\n    .dataframe thead th {\n        text-align: right;\n    }\n</style>\n<table border=\"1\" class=\"dataframe\">\n  <thead>\n    <tr style=\"text-align: right;\">\n      <th></th>\n      <th>sort_order</th>\n      <th>time</th>\n      <th>event_type</th>\n      <th>event_type2</th>\n      <th>side</th>\n      <th>shot_place</th>\n      <th>shot_outcome</th>\n      <th>is_goal</th>\n      <th>location</th>\n      <th>bodypart</th>\n      <th>assist_method</th>\n      <th>situation</th>\n      <th>fast_break</th>\n    </tr>\n  </thead>\n  <tbody>\n    <tr>\n      <th>count</th>\n      <td>941009.000000</td>\n      <td>941009.000000</td>\n      <td>941009.000000</td>\n      <td>214293.000000</td>\n      <td>941009.000000</td>\n      <td>227459.000000</td>\n      <td>228498.000000</td>\n      <td>941009.000000</td>\n      <td>467067.000000</td>\n      <td>229185.000000</td>\n      <td>941009.000000</td>\n      <td>229137.000000</td>\n      <td>941009.000000</td>\n    </tr>\n    <tr>\n      <th>mean</th>\n      <td>53.858826</td>\n      <td>49.663663</td>\n      <td>4.326575</td>\n      <td>12.233764</td>\n      <td>1.481170</td>\n      <td>5.733693</td>\n      <td>1.926555</td>\n      <td>0.025978</td>\n      <td>6.209073</td>\n      <td>1.624831</td>\n      <td>0.264332</td>\n      <td>1.281316</td>\n      <td>0.004876</td>\n    </tr>\n    <tr>\n      <th>std</th>\n      <td>32.014268</td>\n      <td>26.488977</td>\n      <td>2.995313</td>\n      <td>0.468850</td>\n      <td>0.499646</td>\n      <td>3.326100</td>\n      <td>0.797055</td>\n      <td>0.159071</td>\n      <td>5.421736</td>\n      <td>0.740400</td>\n      <td>0.655501</td>\n      <td>0.709394</td>\n      <td>0.069655</td>\n    </tr>\n    <tr>\n      <th>min</th>\n      <td>1.000000</td>\n      <td>0.000000</td>\n      <td>1.000000</td>\n      <td>12.000000</td>\n      <td>1.000000</td>\n      <td>1.000000</td>\n      <td>1.000000</td>\n      <td>0.000000</td>\n      <td>1.000000</td>\n      <td>1.000000</td>\n      <td>0.000000</td>\n      <td>1.000000</td>\n      <td>0.000000</td>\n    </tr>\n    <tr>\n      <th>25%</th>\n      <td>27.000000</td>\n      <td>27.000000</td>\n      <td>2.000000</td>\n      <td>12.000000</td>\n      <td>1.000000</td>\n      <td>2.000000</td>\n      <td>1.000000</td>\n      <td>0.000000</td>\n      <td>2.000000</td>\n      <td>1.000000</td>\n      <td>0.000000</td>\n      <td>1.000000</td>\n      <td>0.000000</td>\n    </tr>\n    <tr>\n      <th>50%</th>\n      <td>53.000000</td>\n      <td>51.000000</td>\n      <td>3.000000</td>\n      <td>12.000000</td>\n      <td>1.000000</td>\n      <td>5.000000</td>\n      <td>2.000000</td>\n      <td>0.000000</td>\n      <td>3.000000</td>\n      <td>1.000000</td>\n      <td>0.000000</td>\n      <td>1.000000</td>\n      <td>0.000000</td>\n    </tr>\n    <tr>\n      <th>75%</th>\n      <td>79.000000</td>\n      <td>73.000000</td>\n      <td>8.000000</td>\n      <td>12.000000</td>\n      <td>2.000000</td>\n      <td>9.000000</td>\n      <td>3.000000</td>\n      <td>0.000000</td>\n      <td>11.000000</td>\n      <td>2.000000</td>\n      <td>0.000000</td>\n      <td>1.000000</td>\n      <td>0.000000</td>\n    </tr>\n    <tr>\n      <th>max</th>\n      <td>180.000000</td>\n      <td>100.000000</td>\n      <td>11.000000</td>\n      <td>15.000000</td>\n      <td>2.000000</td>\n      <td>13.000000</td>\n      <td>4.000000</td>\n      <td>1.000000</td>\n      <td>19.000000</td>\n      <td>3.000000</td>\n      <td>4.000000</td>\n      <td>4.000000</td>\n      <td>1.000000</td>\n    </tr>\n  </tbody>\n</table>\n</div>"
     },
     "metadata": {},
     "execution_count": 3
    }
   ],
   "source": [
    "events.describe()"
   ]
  },
  {
   "cell_type": "markdown",
   "metadata": {},
   "source": [
    "We might be dealing with events that dont have a corresponding game in the ```ginf.csv``` table. So let's verify that first.\n",
    "\n",
    "We can check if there are any 'rogue events' by joining both tables on the game id and checking if there is any loss of rows.  "
   ]
  },
  {
   "cell_type": "code",
   "execution_count": 4,
   "metadata": {},
   "outputs": [
    {
     "output_type": "stream",
     "name": "stdout",
     "text": "Number of events = 941009\nNumber of events after merge = 941009\n"
    }
   ],
   "source": [
    "unique_games = games['id_odsp'].nunique()\n",
    "unique_documented_games = events['id_odsp'].nunique()\n",
    "event_number = events['id_odsp'].size\n",
    "print(f'Number of events = {event_number}')\n",
    "merged_size = pd.merge(events, games, right_on='id_odsp', left_on='id_odsp', how='inner')['id_odsp'].size\n",
    "print(f'Number of events after merge = {merged_size}')"
   ]
  },
  {
   "cell_type": "markdown",
   "metadata": {},
   "source": [
    "Since there were no lost events after the merge, we can rest assured that there are no rogue events in this dataset.\n",
    "\n",
    "The dataset's website also states that only around 90% of the games in ```ginf.csv``` have events in ```events.csv```."
   ]
  },
  {
   "cell_type": "code",
   "execution_count": 11,
   "metadata": {},
   "outputs": [
    {
     "output_type": "stream",
     "name": "stdout",
     "text": "10112 unique games.\n9074 unique documented games.\n1038 unique undocumented games.\n89.73% of games are documented.\n"
    }
   ],
   "source": [
    "print(f'{unique_games} unique games.')\n",
    "print(f'{unique_documented_games} unique documented games.')\n",
    "print(f'{unique_games - unique_documented_games} unique undocumented games.')\n",
    "print(f'{unique_documented_games/unique_games * 100:.2f}% of games are documented.')"
   ]
  },
  {
   "cell_type": "code",
   "execution_count": 7,
   "metadata": {},
   "outputs": [],
   "source": [
    "## 3. Approach"
   ]
  },
  {
   "cell_type": "markdown",
   "metadata": {},
   "source": [
    "## 5. Conclusions\n",
    "\n",
    "The data set, and inherently the model, are flawed.\n",
    "In essence, football games present an extremelly non deterministic world. \n",
    "The number of goals a team scores doesn't depend only on the recorded statistics, it also depends on player health, team state of mind, factors that are foreign to the games like club internall conflicts, etc.\n",
    "\n",
    "This leads to situations were two games of a team that have exactly the same statistics will have different results, due to the circumstances of that time. \n",
    "It also makes it hard to find outliers as we can't choose which behaviour is normal.\n",
    "All of this added together makes regression models have a hard time being accurate.\n",
    "\n",
    "Another problem is that the dataset holds is missing some data that would be extremelly useful, like ball possession percentages."
   ]
  }
 ],
 "metadata": {
  "kernelspec": {
   "display_name": "Python 3",
   "language": "python",
   "name": "python3"
  },
  "language_info": {
   "codemirror_mode": {
    "name": "ipython",
    "version": 3
   },
   "file_extension": ".py",
   "mimetype": "text/x-python",
   "name": "python",
   "nbconvert_exporter": "python",
   "pygments_lexer": "ipython3",
   "version": "3.8.3-final"
  }
 },
 "nbformat": 4,
 "nbformat_minor": 4
}