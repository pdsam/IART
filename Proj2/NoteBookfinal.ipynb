{
 "cells": [
  {
   "cell_type": "markdown",
   "metadata": {},
   "source": [
    "# Comparing diferent machine learning techniques to predict football results\n",
    "# - Authors and affiliations\n",
    "\n",
    "José Silva - up201705591 (FEUP)\n",
    "\n",
    "Moisés Rocha - up201707329 (FEUP)\n",
    "\n",
    "Paulo Marques - up201705615 (FEUP)\n",
    "\n",
    "\n",
    "### Abstract\n",
    "\n",
    "Many techniques to predict the outcome of professional football matches have traditionally used the number of goals scored by each team as a base measure for evaluating a team’s performance and estimating future results.\n",
    "\n",
    "However, the number of goals scored during a match possesses an important random element which leads to large inconsistencies in many games between a team’s performance and number of goals scored or conceded.\n",
    "The main objective of this project is to explore different Machine Learning techniques to predict the score and outcome of football matches, using in-game match events rather than the number of goals scored by each team. We will explore different model design hypotheses and compare them.\n"
   ]
  },
  {
   "cell_type": "markdown",
   "metadata": {},
   "source": [
    "# 1. Introduction\n",
    "\n",
    "As one of the most popular sports on the planet, football has always been followed\n",
    "very closely by a large number of people. In recent years, new types of data have\n",
    "been collected for many games in various countries, such as play-by-play data including information on each shot or pass made in a match.\n",
    "\n",
    "Information like this can be found in datasets like [the Football Events dataset](https://datasetsearch.research.google.com/search?docid=beC2NjeMuiLj9GvLAAAAAA%3D%3D) found on kaggle.\n",
    "\n",
    "This projects objective is to use the above mentioned dataset to predict the number of goals on a football game using Regression algorithms.\n",
    "This paper will start with an explanation and analysis of the used dataset, followed by an explanation of the approach the was decided to be used.\n",
    "\n",
    "Tests will be performed on the developed models and explanation for the results will be given at the end."
   ]
  },
  {
   "cell_type": "markdown",
   "metadata": {},
   "source": [
    "# 2. Description of the problem/dataset\n",
    "\n",
    "Our data set has two files of data and one dictionary. The first file (events.csv) gives information on all the\n",
    "recorded events with 941,009 events for 9,074 games. The second file (ginf.csv) gives the details of the\n",
    "odds for the games recorded in the first file . for each league we have information on the seasons\n",
    "from 2012 to 2017 except the English league which information only starts in the season 2014.\n",
    "The dictionary helps us to understands the values in some of the columns of the events table.\n",
    "\n",
    "We will focus more on the first table which will be the most useful since we not using odds.\n",
    "\n",
    "## 2.1. events.csv Columns\n",
    "\n",
    "1. id odsp : Unique identifier of the game (odsp stands from oddsportal.com)\n",
    "2. id event : Unique identifier of event (id odsp + sort order)\n",
    "3. sort order : Chronological sequence of events in a game\n",
    "4. time : Minute of the game when the event happened\n",
    "5. text : Text commentary\n",
    "6. event type : Primary event. 11 unique events (1-Attempt(shot), 2-Corner, 3-Foul, 4-Yellow Card, 5-Second Yellow Card, 6-(Straight) Red Card, 7-Substitution, 8-Free Kick Won, 9-Offside, 10-Hand Ball, 11-Penalty conceded)\n",
    "7. event type2 : Secondary event. 4 unique events (12 - Key Pass, 13 - Failed through ball, 14-Sending off, 15-Own goal)\n",
    "8. side : 1-Home, 2-Away\n",
    "9. event team : Team that produced the event. In case of Own goals, event team is the team that benefited from the own goal\n",
    "10. opponent : Team that the event happened against\n",
    "11. player : Name of the player involved in main event (converted to lowercase and special\n",
    "chars were removed)\n",
    "12. player2 : Name of player involved in secondary event 8\n",
    "13. player in : Player that came in (only applies to substitutions)\n",
    "14. player out : Player substituted (only applies to substitutions)\n",
    "15. shot place : Placement of the shot (13 possible placement locations, available in the\n",
    "dictionary, only applies to shots)\n",
    "16. shot outcome : 4 possible outcomes (1-On target, 2-Off target, 3-Blocked, 4-Hit the post)\n",
    "17. is goal : Binary variable if the shot resulted in a goal (own goals included)\n",
    "18. location : Location on the pitch where the event happened (19 possible locations, available\n",
    "in the dictionary)\n",
    "19. bodypart : (1- right foot, 2-left foot, 3-head)\n",
    "20. assist method : In case of an assisted shot, 5 possible assist methods (details in the dictionary)\n",
    "21. situation : 4 types: 1-Open Play, 2-Set piece (excluding Direct Free kicks), 3-Corner, 4-Free kick"
   ]
  },
  {
   "cell_type": "markdown",
   "metadata": {},
   "source": [
    "## 2.2 Loading the Data"
   ]
  },
  {
   "cell_type": "code",
   "execution_count": 1,
   "metadata": {},
   "outputs": [],
   "source": [
    "import pandas as pd\n",
    "import numpy as np\n",
    "import matplotlib as plt\n",
    "from matplotlib import pyplot\n",
    "import scipy as sp\n",
    "import seaborn as sb"
   ]
  },
  {
   "cell_type": "markdown",
   "metadata": {},
   "source": [
    "From the website we also know that the missing values are set as 'NA'so we should treat them as such"
   ]
  },
  {
   "cell_type": "code",
   "execution_count": 2,
   "metadata": {},
   "outputs": [],
   "source": [
    "events = pd.read_csv('football-events/events.csv',na_values=['NA'])\n",
    "games = pd.read_csv('football-events/ginf.csv',na_values=['NA'])"
   ]
  },
  {
   "cell_type": "code",
   "execution_count": 3,
   "metadata": {},
   "outputs": [
    {
     "data": {
      "text/html": [
       "<div>\n",
       "<style scoped>\n",
       "    .dataframe tbody tr th:only-of-type {\n",
       "        vertical-align: middle;\n",
       "    }\n",
       "\n",
       "    .dataframe tbody tr th {\n",
       "        vertical-align: top;\n",
       "    }\n",
       "\n",
       "    .dataframe thead th {\n",
       "        text-align: right;\n",
       "    }\n",
       "</style>\n",
       "<table border=\"1\" class=\"dataframe\">\n",
       "  <thead>\n",
       "    <tr style=\"text-align: right;\">\n",
       "      <th></th>\n",
       "      <th>sort_order</th>\n",
       "      <th>time</th>\n",
       "      <th>event_type</th>\n",
       "      <th>event_type2</th>\n",
       "      <th>side</th>\n",
       "      <th>shot_place</th>\n",
       "      <th>shot_outcome</th>\n",
       "      <th>is_goal</th>\n",
       "      <th>location</th>\n",
       "      <th>bodypart</th>\n",
       "      <th>assist_method</th>\n",
       "      <th>situation</th>\n",
       "      <th>fast_break</th>\n",
       "    </tr>\n",
       "  </thead>\n",
       "  <tbody>\n",
       "    <tr>\n",
       "      <th>count</th>\n",
       "      <td>941009.000000</td>\n",
       "      <td>941009.000000</td>\n",
       "      <td>941009.000000</td>\n",
       "      <td>214293.000000</td>\n",
       "      <td>941009.000000</td>\n",
       "      <td>227459.000000</td>\n",
       "      <td>228498.000000</td>\n",
       "      <td>941009.000000</td>\n",
       "      <td>467067.000000</td>\n",
       "      <td>229185.000000</td>\n",
       "      <td>941009.000000</td>\n",
       "      <td>229137.000000</td>\n",
       "      <td>941009.000000</td>\n",
       "    </tr>\n",
       "    <tr>\n",
       "      <th>mean</th>\n",
       "      <td>53.858826</td>\n",
       "      <td>49.663663</td>\n",
       "      <td>4.326575</td>\n",
       "      <td>12.233764</td>\n",
       "      <td>1.481170</td>\n",
       "      <td>5.733693</td>\n",
       "      <td>1.926555</td>\n",
       "      <td>0.025978</td>\n",
       "      <td>6.209073</td>\n",
       "      <td>1.624831</td>\n",
       "      <td>0.264332</td>\n",
       "      <td>1.281316</td>\n",
       "      <td>0.004876</td>\n",
       "    </tr>\n",
       "    <tr>\n",
       "      <th>std</th>\n",
       "      <td>32.014268</td>\n",
       "      <td>26.488977</td>\n",
       "      <td>2.995313</td>\n",
       "      <td>0.468850</td>\n",
       "      <td>0.499646</td>\n",
       "      <td>3.326100</td>\n",
       "      <td>0.797055</td>\n",
       "      <td>0.159071</td>\n",
       "      <td>5.421736</td>\n",
       "      <td>0.740400</td>\n",
       "      <td>0.655501</td>\n",
       "      <td>0.709394</td>\n",
       "      <td>0.069655</td>\n",
       "    </tr>\n",
       "    <tr>\n",
       "      <th>min</th>\n",
       "      <td>1.000000</td>\n",
       "      <td>0.000000</td>\n",
       "      <td>1.000000</td>\n",
       "      <td>12.000000</td>\n",
       "      <td>1.000000</td>\n",
       "      <td>1.000000</td>\n",
       "      <td>1.000000</td>\n",
       "      <td>0.000000</td>\n",
       "      <td>1.000000</td>\n",
       "      <td>1.000000</td>\n",
       "      <td>0.000000</td>\n",
       "      <td>1.000000</td>\n",
       "      <td>0.000000</td>\n",
       "    </tr>\n",
       "    <tr>\n",
       "      <th>25%</th>\n",
       "      <td>27.000000</td>\n",
       "      <td>27.000000</td>\n",
       "      <td>2.000000</td>\n",
       "      <td>12.000000</td>\n",
       "      <td>1.000000</td>\n",
       "      <td>2.000000</td>\n",
       "      <td>1.000000</td>\n",
       "      <td>0.000000</td>\n",
       "      <td>2.000000</td>\n",
       "      <td>1.000000</td>\n",
       "      <td>0.000000</td>\n",
       "      <td>1.000000</td>\n",
       "      <td>0.000000</td>\n",
       "    </tr>\n",
       "    <tr>\n",
       "      <th>50%</th>\n",
       "      <td>53.000000</td>\n",
       "      <td>51.000000</td>\n",
       "      <td>3.000000</td>\n",
       "      <td>12.000000</td>\n",
       "      <td>1.000000</td>\n",
       "      <td>5.000000</td>\n",
       "      <td>2.000000</td>\n",
       "      <td>0.000000</td>\n",
       "      <td>3.000000</td>\n",
       "      <td>1.000000</td>\n",
       "      <td>0.000000</td>\n",
       "      <td>1.000000</td>\n",
       "      <td>0.000000</td>\n",
       "    </tr>\n",
       "    <tr>\n",
       "      <th>75%</th>\n",
       "      <td>79.000000</td>\n",
       "      <td>73.000000</td>\n",
       "      <td>8.000000</td>\n",
       "      <td>12.000000</td>\n",
       "      <td>2.000000</td>\n",
       "      <td>9.000000</td>\n",
       "      <td>3.000000</td>\n",
       "      <td>0.000000</td>\n",
       "      <td>11.000000</td>\n",
       "      <td>2.000000</td>\n",
       "      <td>0.000000</td>\n",
       "      <td>1.000000</td>\n",
       "      <td>0.000000</td>\n",
       "    </tr>\n",
       "    <tr>\n",
       "      <th>max</th>\n",
       "      <td>180.000000</td>\n",
       "      <td>100.000000</td>\n",
       "      <td>11.000000</td>\n",
       "      <td>15.000000</td>\n",
       "      <td>2.000000</td>\n",
       "      <td>13.000000</td>\n",
       "      <td>4.000000</td>\n",
       "      <td>1.000000</td>\n",
       "      <td>19.000000</td>\n",
       "      <td>3.000000</td>\n",
       "      <td>4.000000</td>\n",
       "      <td>4.000000</td>\n",
       "      <td>1.000000</td>\n",
       "    </tr>\n",
       "  </tbody>\n",
       "</table>\n",
       "</div>"
      ],
      "text/plain": [
       "          sort_order           time     event_type    event_type2  \\\n",
       "count  941009.000000  941009.000000  941009.000000  214293.000000   \n",
       "mean       53.858826      49.663663       4.326575      12.233764   \n",
       "std        32.014268      26.488977       2.995313       0.468850   \n",
       "min         1.000000       0.000000       1.000000      12.000000   \n",
       "25%        27.000000      27.000000       2.000000      12.000000   \n",
       "50%        53.000000      51.000000       3.000000      12.000000   \n",
       "75%        79.000000      73.000000       8.000000      12.000000   \n",
       "max       180.000000     100.000000      11.000000      15.000000   \n",
       "\n",
       "                side     shot_place   shot_outcome        is_goal  \\\n",
       "count  941009.000000  227459.000000  228498.000000  941009.000000   \n",
       "mean        1.481170       5.733693       1.926555       0.025978   \n",
       "std         0.499646       3.326100       0.797055       0.159071   \n",
       "min         1.000000       1.000000       1.000000       0.000000   \n",
       "25%         1.000000       2.000000       1.000000       0.000000   \n",
       "50%         1.000000       5.000000       2.000000       0.000000   \n",
       "75%         2.000000       9.000000       3.000000       0.000000   \n",
       "max         2.000000      13.000000       4.000000       1.000000   \n",
       "\n",
       "            location       bodypart  assist_method      situation  \\\n",
       "count  467067.000000  229185.000000  941009.000000  229137.000000   \n",
       "mean        6.209073       1.624831       0.264332       1.281316   \n",
       "std         5.421736       0.740400       0.655501       0.709394   \n",
       "min         1.000000       1.000000       0.000000       1.000000   \n",
       "25%         2.000000       1.000000       0.000000       1.000000   \n",
       "50%         3.000000       1.000000       0.000000       1.000000   \n",
       "75%        11.000000       2.000000       0.000000       1.000000   \n",
       "max        19.000000       3.000000       4.000000       4.000000   \n",
       "\n",
       "          fast_break  \n",
       "count  941009.000000  \n",
       "mean        0.004876  \n",
       "std         0.069655  \n",
       "min         0.000000  \n",
       "25%         0.000000  \n",
       "50%         0.000000  \n",
       "75%         0.000000  \n",
       "max         1.000000  "
      ]
     },
     "execution_count": 3,
     "metadata": {},
     "output_type": "execute_result"
    }
   ],
   "source": [
    "events.describe()"
   ]
  },
  {
   "cell_type": "markdown",
   "metadata": {},
   "source": [
    "We might be dealing with events that dont have a corresponding game in the ```ginf.csv``` table. So let's verify that first.\n",
    "\n",
    "We can check if there are any 'rogue events' by joining both tables on the game id and checking if there is any loss of rows.  "
   ]
  },
  {
   "cell_type": "code",
   "execution_count": 4,
   "metadata": {},
   "outputs": [
    {
     "name": "stdout",
     "output_type": "stream",
     "text": [
      "Number of events = 941009\n",
      "Number of events after merge = 941009\n"
     ]
    }
   ],
   "source": [
    "unique_games = games['id_odsp'].nunique()\n",
    "unique_documented_games = events['id_odsp'].nunique()\n",
    "event_number = events['id_odsp'].size\n",
    "print(f'Number of events = {event_number}')\n",
    "merged_size = pd.merge(events, games, right_on='id_odsp', left_on='id_odsp', how='inner')['id_odsp'].size\n",
    "print(f'Number of events after merge = {merged_size}')"
   ]
  },
  {
   "cell_type": "markdown",
   "metadata": {},
   "source": [
    "Since there were no lost events after the merge, we can rest assured that there are no rogue events in this dataset.\n",
    "\n",
    "The dataset's website also states that only around 90% of the games in ```ginf.csv``` have events in ```events.csv```."
   ]
  },
  {
   "cell_type": "code",
   "execution_count": 5,
   "metadata": {},
   "outputs": [
    {
     "name": "stdout",
     "output_type": "stream",
     "text": [
      "10112 unique games.\n",
      "9074 unique documented games.\n",
      "1038 unique undocumented games.\n",
      "89.73% of games are documented.\n"
     ]
    }
   ],
   "source": [
    "print(f'{unique_games} unique games.')\n",
    "print(f'{unique_documented_games} unique documented games.')\n",
    "print(f'{unique_games - unique_documented_games} unique undocumented games.')\n",
    "print(f'{unique_documented_games/unique_games * 100:.2f}% of games are documented.')"
   ]
  },
  {
   "cell_type": "markdown",
   "metadata": {},
   "source": [
    "By analysing the following histogram we can observe the most events are shots, fouls and free kicks"
   ]
  },
  {
   "cell_type": "code",
   "execution_count": 6,
   "metadata": {},
   "outputs": [
    {
     "data": {
      "text/plain": [
       "<matplotlib.axes._subplots.AxesSubplot at 0x7f9d14819050>"
      ]
     },
     "execution_count": 6,
     "metadata": {},
     "output_type": "execute_result"
    },
    {
     "data": {
      "image/png": "[encoded data removed]",
      "text/plain": [
       "<Figure size 432x288 with 1 Axes>"
      ]
     },
     "metadata": {
      "needs_background": "light"
     },
     "output_type": "display_data"
    }
   ],
   "source": [
    "event_types = events.iloc[:,5]\n",
    "event_types.hist()"
   ]
  },
  {
   "cell_type": "markdown",
   "metadata": {},
   "source": [
    "Now analysing the shots, we can observe that the majority of the shots missed, and therefore we have an imbalanced dataset."
   ]
  },
  {
   "cell_type": "code",
   "execution_count": 7,
   "metadata": {},
   "outputs": [
    {
     "data": {
      "text/plain": [
       "<matplotlib.axes._subplots.AxesSubplot at 0x7f9d08be6bd0>"
      ]
     },
     "execution_count": 7,
     "metadata": {},
     "output_type": "execute_result"
    },
    {
     "data": {
      "image/png": "[encoded data removed]",
      "text/plain": [
       "<Figure size 432x288 with 1 Axes>"
      ]
     },
     "metadata": {
      "needs_background": "light"
     },
     "output_type": "display_data"
    }
   ],
   "source": [
    "shots = events[(events.event_type==1)]\n",
    "\n",
    "shots['is_goal'].hist()"
   ]
  },
  {
   "cell_type": "markdown",
   "metadata": {},
   "source": [
    "# 3. Approach"
   ]
  },
  {
   "cell_type": "code",
   "execution_count": 8,
   "metadata": {},
   "outputs": [],
   "source": [
    "#Useful imports\n",
    "import pandas as pd\n",
    "import numpy as np\n",
    "import matplotlib as plt\n",
    "from matplotlib import pyplot\n",
    "import scipy as sp\n",
    "import seaborn as sb\n",
    "import sklearn\n",
    "from sklearn.metrics import average_precision_score\n",
    "from sklearn.metrics import roc_auc_score\n",
    "from sklearn.model_selection import GridSearchCV\n",
    "from sklearn.model_selection import train_test_split\n",
    "from sklearn.metrics import classification_report,confusion_matrix,mean_squared_error, mean_absolute_error\n",
    "from sklearn.metrics import cohen_kappa_score\n",
    "from sklearn.tree import DecisionTreeClassifier\n",
    "from sklearn.ensemble import RandomForestRegressor\n",
    "from sklearn.linear_model import LogisticRegression\n",
    "from sklearn.neural_network import MLPClassifier, MLPRegressor\n",
    "from sklearn.tree import DecisionTreeRegressor\n",
    "from sklearn import tree"
   ]
  },
  {
   "cell_type": "markdown",
   "metadata": {},
   "source": [
    "In our model we want to predict the number of goals by a team in a match, therefore, the depedent variable is the number of goals by a team.\n",
    "\n",
    "As our independent variables we will supply:\n",
    "\n",
    "* side - if a team is playing at home or not\n",
    "* xG - the sum of all the shots odds of going in \n",
    "* shot_count - number of shots\n",
    "* corner_count - number of corners\n",
    "* yellow_card_count - yellow card count\n",
    "* second_yellow_card_count - second yellow card count\n",
    "* red_car_count - red card count\n",
    "* free_kick_count - free kick count\n",
    "* offside_count - offside count\n",
    "* team tags - hash identifiers for the teams involved.\n",
    "\n",
    "We added xG to prevent the lost of information by only adding the amount of shots, since every shot has a diferent probability of going in, depending on the shot location, part of the body and other.  xG corresponds to the added goal probability of every shot and, therefore, gives a rought estimate of the final score. However since we using a Neural network to calculate this probabilities there is an associated error to this, which we will try to mitigate.\n",
    "\n",
    "\n"
   ]
  },
  {
   "cell_type": "markdown",
   "metadata": {},
   "source": [
    "## 3.1. Preparing the data"
   ]
  },
  {
   "cell_type": "markdown",
   "metadata": {},
   "source": [
    "### 3.1.1 The xG Classifier\n",
    "We use this classifier to obtain the probabilities values for each shot to go in."
   ]
  },
  {
   "cell_type": "code",
   "execution_count": 9,
   "metadata": {},
   "outputs": [],
   "source": [
    "shots = events[(events.event_type==1)]\n",
    "shots_prediction = shots.iloc[:,-6:]\n",
    "dummies = pd.get_dummies(shots_prediction, columns=['location', 'bodypart','assist_method', 'situation'])\n",
    "dummies.columns = ['is_goal', 'fast_break', 'loc_centre_box', 'loc_diff_angle_lr', 'diff_angle_left', 'diff_angle_right', 'left_side_box', 'left_side_6ybox', 'right_side_box', 'right_side_6ybox', 'close_range', 'penalty', 'outside_box', 'long_range', 'more_35y', 'more_40y', 'not_recorded', 'right_foot', 'left_foot', 'header', 'no_assist', 'assist_pass', 'assist_cross', 'assist_header', 'assist_through_ball', 'open_play', 'set_piece', 'corner', 'free_kick']"
   ]
  },
  {
   "cell_type": "code",
   "execution_count": 10,
   "metadata": {},
   "outputs": [],
   "source": [
    "X = dummies.iloc[:,1:]\n",
    "y = dummies.iloc[:,0]"
   ]
  },
  {
   "cell_type": "code",
   "execution_count": 11,
   "metadata": {},
   "outputs": [
    {
     "name": "stdout",
     "output_type": "stream",
     "text": [
      "CPU times: user 3.18 s, sys: 17.8 ms, total: 3.2 s\n",
      "Wall time: 3.61 s\n"
     ]
    },
    {
     "name": "stderr",
     "output_type": "stream",
     "text": [
      "/home/paulo/.local/lib/python3.7/site-packages/sklearn/neural_network/_multilayer_perceptron.py:573: UserWarning: Training interrupted by user.\n",
      "  warnings.warn(\"Training interrupted by user.\")\n"
     ]
    },
    {
     "data": {
      "text/plain": [
       "MLPClassifier(activation='relu', alpha=0.0001, batch_size='auto', beta_1=0.9,\n",
       "              beta_2=0.999, early_stopping=False, epsilon=1e-08,\n",
       "              hidden_layer_sizes=(28, 28, 28, 28), learning_rate='constant',\n",
       "              learning_rate_init=0.001, max_fun=15000, max_iter=2000,\n",
       "              momentum=0.9, n_iter_no_change=10, nesterovs_momentum=True,\n",
       "              power_t=0.5, random_state=0, shuffle=True, solver='adam',\n",
       "              tol=0.0001, validation_fraction=0.1, verbose=False,\n",
       "              warm_start=False)"
      ]
     },
     "execution_count": 11,
     "metadata": {},
     "output_type": "execute_result"
    }
   ],
   "source": [
    "%%time\n",
    "X_train, X_test, y_train, y_test = train_test_split(X, y, test_size=0.35, random_state=1)\n",
    "mlp = MLPClassifier(random_state=0, hidden_layer_sizes=(28, 28, 28, 28), max_iter=2000, activation='relu')\n",
    "mlp.fit(X_train, y_train)"
   ]
  },
  {
   "cell_type": "code",
   "execution_count": 12,
   "metadata": {},
   "outputs": [
    {
     "name": "stdout",
     "output_type": "stream",
     "text": [
      "Confusion Matrix:\n",
      "[[70708   986]\n",
      " [ 6196  2308]]\n",
      "Report:\n",
      "              precision    recall  f1-score   support\n",
      "\n",
      "           0       0.92      0.99      0.95     71694\n",
      "           1       0.70      0.27      0.39      8504\n",
      "\n",
      "    accuracy                           0.91     80198\n",
      "   macro avg       0.81      0.63      0.67     80198\n",
      "weighted avg       0.90      0.91      0.89     80198\n",
      "\n",
      "The accuracy of classifying whether a shot is goal or not is 91.04 %.\n"
     ]
    }
   ],
   "source": [
    "predict = mlp.predict(X_test)\n",
    "print('Confusion Matrix:')\n",
    "print(confusion_matrix(y_test,predict))\n",
    "print('Report:')\n",
    "print(classification_report(y_test,predict))\n",
    "accuracy = mlp.score(X_test, y_test)\n",
    "print('The accuracy of classifying whether a shot is goal or not is {:.2f} %.'.format(accuracy*100))"
   ]
  },
  {
   "cell_type": "markdown",
   "metadata": {},
   "source": [
    "### 3.1.2. Analysing the xG classifier"
   ]
  },
  {
   "cell_type": "markdown",
   "metadata": {},
   "source": [
    "As noticed from the report above the performance for detecting positives is lower than the perfomance when detecting negatives. This is due to the unbalanced dataset which has way more misses then goals.\n",
    "This might cause some errors which will lead to a more pessimistic estimation of the xG value and, therefore, worst final results."
   ]
  },
  {
   "cell_type": "markdown",
   "metadata": {},
   "source": [
    "### 3.1.3. Assembling everything\n",
    "\n",
    "First we replace some categorical variables for binary dummies"
   ]
  },
  {
   "cell_type": "code",
   "execution_count": 13,
   "metadata": {},
   "outputs": [],
   "source": [
    "dummies['xG'] = mlp.predict_proba(X)[:,1]\n",
    "dummies = dummies[['xG']].copy()\n",
    "dataWithXG = shots.join(dummies[['xG']])\n",
    "matchXG = dataWithXG.groupby(['id_odsp', 'side'])['xG'].sum().reset_index()"
   ]
  },
  {
   "cell_type": "markdown",
   "metadata": {},
   "source": [
    "Then we count every event in every match and then we join everything."
   ]
  },
  {
   "cell_type": "code",
   "execution_count": 14,
   "metadata": {},
   "outputs": [],
   "source": [
    "# Number of shots\n",
    "attempts = events[(events.event_type==1)]\n",
    "shotsSorted = attempts.groupby(['id_odsp', 'side']).count().reset_index()\n",
    "shotsClean = shotsSorted[['id_odsp', 'side', 'id_event']].rename(columns={\"id_event\":\"shot_count\"})\n",
    "\n",
    "# Number of corners\n",
    "corners = events[(events.event_type==2)]\n",
    "cornersSorted = corners.groupby(['id_odsp', 'side']).count().reset_index()\n",
    "cornersClean = cornersSorted[['id_odsp', 'side', 'id_event']].rename(columns={\"id_event\":\"corner_count\"})\n",
    "\n",
    "# Number of fouls\n",
    "fouls = events[(events.event_type==3)]\n",
    "foulsSorted = fouls.groupby(['id_odsp', 'side']).count().reset_index()\n",
    "foulsClean = foulsSorted[['id_odsp', 'side', 'id_event']].rename(columns={\"id_event\":\"foul_count\"})\n",
    "\n",
    "# Number of yellow cards\n",
    "yellow_cards = events[(events.event_type==4)]\n",
    "ycSorted = yellow_cards.groupby(['id_odsp', 'side']).count().reset_index()\n",
    "ycClean = ycSorted[['id_odsp', 'side', 'id_event']].rename(columns={\"id_event\":\"yellow_card_count\"})\n",
    "\n",
    "# Number of second yellow cards\n",
    "second_yellow_cards= events[(events.event_type==5)]\n",
    "sycSorted = second_yellow_cards.groupby(['id_odsp', 'side']).count().reset_index()\n",
    "sycClean = sycSorted[['id_odsp', 'side', 'id_event']].rename(columns={\"id_event\":\"second_yellow_card_count\"})\n",
    "\n",
    "# Number of red cards\n",
    "red_cards = events[(events.event_type==6)]\n",
    "redCardsSorted = red_cards.groupby(['id_odsp', 'side']).count().reset_index()\n",
    "redCardsClean = redCardsSorted[['id_odsp', 'side', 'id_event']].rename(columns={\"id_event\":\"red_card_count\"})\n",
    "\n",
    "# Number of freekicks\n",
    "free_kicks = events[(events.event_type==8)]\n",
    "fkSorted = free_kicks.groupby(['id_odsp', 'side']).count().reset_index()\n",
    "fkClean = fkSorted[['id_odsp', 'side', 'id_event']].rename(columns={\"id_event\":\"free_kick_count\"})\n",
    "\n",
    "# Number of offsides\n",
    "offsides = events[(events.event_type==9)].copy()\n",
    "offsidesSorted = offsides.groupby(['id_odsp', 'side']).count().reset_index()\n",
    "offsidesClean = offsidesSorted[['id_odsp', 'side', 'id_event']].rename(columns={\"id_event\":\"offside_count\"})\n",
    "\n"
   ]
  },
  {
   "cell_type": "code",
   "execution_count": 15,
   "metadata": {},
   "outputs": [],
   "source": [
    "#Joins results\n",
    "joinColumns = ['id_odsp', 'side']\n",
    "\n",
    "fullDataset = matchXG\n",
    "\n",
    "fullDataset = fullDataset.merge(shotsClean, on=joinColumns, how='left') \n",
    "fullDataset = fullDataset.merge(cornersClean, on=joinColumns, how='left') \n",
    "fullDataset = fullDataset.merge(ycClean, on=joinColumns, how='left') \n",
    "fullDataset = fullDataset.merge(sycClean, on=joinColumns, how='left') \n",
    "fullDataset = fullDataset.merge(redCardsClean, on=joinColumns, how='left') \n",
    "fullDataset = fullDataset.merge(fkClean, on=joinColumns, how='left') \n",
    "fullDataset = fullDataset.merge(offsidesClean, on=joinColumns, how='left') \n",
    "fullDataset= fullDataset.merge(events[['id_odsp', 'side', 'event_team']].drop_duplicates(), on=joinColumns, how='left')\n",
    "fullDataset = fullDataset.fillna(0)\n",
    "\n",
    "for column in fullDataset.columns:\n",
    "    if column.endswith('_count'):\n",
    "        fullDataset[column] = fullDataset[column].astype(int)\n",
    "\n",
    "        \n",
    "        "
   ]
  },
  {
   "cell_type": "code",
   "execution_count": 16,
   "metadata": {},
   "outputs": [],
   "source": [
    "homeGoals = games[['id_odsp', 'fthg']].rename(columns={'fthg':'goals'})\n",
    "homeGoals.insert(2, 'side', 1)\n",
    "awayGoals = games[['id_odsp', 'ftag']].rename(columns={'ftag':'goals'})\n",
    "awayGoals.insert(2, 'side', 2)\n",
    "totalGoals = homeGoals.append(awayGoals)\n",
    "fullDataset = fullDataset.merge(totalGoals, on=joinColumns, how='left')"
   ]
  },
  {
   "cell_type": "code",
   "execution_count": 17,
   "metadata": {},
   "outputs": [],
   "source": [
    "fullDataset['other_side'] = fullDataset['side'].apply(lambda x: 2 if x == 1 else 1)"
   ]
  },
  {
   "cell_type": "code",
   "execution_count": 18,
   "metadata": {},
   "outputs": [],
   "source": [
    "teamNames = fullDataset[['id_odsp', 'event_team', 'side']].rename(columns={'event_team':'other_event_team', 'side':'other_side'})\n",
    "fullDataset = fullDataset.merge(teamNames, on=['id_odsp', 'other_side'], how='left').drop(columns=['other_side'])"
   ]
  },
  {
   "cell_type": "markdown",
   "metadata": {},
   "source": [
    "In the end we obtain something like this:"
   ]
  },
  {
   "cell_type": "code",
   "execution_count": 59,
   "metadata": {},
   "outputs": [
    {
     "data": {
      "text/html": [
       "<div>\n",
       "<style scoped>\n",
       "    .dataframe tbody tr th:only-of-type {\n",
       "        vertical-align: middle;\n",
       "    }\n",
       "\n",
       "    .dataframe tbody tr th {\n",
       "        vertical-align: top;\n",
       "    }\n",
       "\n",
       "    .dataframe thead th {\n",
       "        text-align: right;\n",
       "    }\n",
       "</style>\n",
       "<table border=\"1\" class=\"dataframe\">\n",
       "  <thead>\n",
       "    <tr style=\"text-align: right;\">\n",
       "      <th></th>\n",
       "      <th>id_odsp</th>\n",
       "      <th>side</th>\n",
       "      <th>xG</th>\n",
       "      <th>shot_count</th>\n",
       "      <th>corner_count</th>\n",
       "      <th>yellow_card_count</th>\n",
       "      <th>second_yellow_card_count</th>\n",
       "      <th>red_card_count</th>\n",
       "      <th>free_kick_count</th>\n",
       "      <th>offside_count</th>\n",
       "      <th>event_team</th>\n",
       "      <th>goals</th>\n",
       "      <th>other_event_team</th>\n",
       "    </tr>\n",
       "  </thead>\n",
       "  <tbody>\n",
       "    <tr>\n",
       "      <th>0</th>\n",
       "      <td>004f4ING/</td>\n",
       "      <td>1</td>\n",
       "      <td>1.443980</td>\n",
       "      <td>15</td>\n",
       "      <td>9</td>\n",
       "      <td>1</td>\n",
       "      <td>0</td>\n",
       "      <td>1</td>\n",
       "      <td>8</td>\n",
       "      <td>0</td>\n",
       "      <td>3761863336822888422</td>\n",
       "      <td>0</td>\n",
       "      <td>8888184232156362232</td>\n",
       "    </tr>\n",
       "    <tr>\n",
       "      <th>1</th>\n",
       "      <td>004f4ING/</td>\n",
       "      <td>2</td>\n",
       "      <td>0.451829</td>\n",
       "      <td>6</td>\n",
       "      <td>0</td>\n",
       "      <td>1</td>\n",
       "      <td>0</td>\n",
       "      <td>0</td>\n",
       "      <td>10</td>\n",
       "      <td>3</td>\n",
       "      <td>8888184232156362232</td>\n",
       "      <td>1</td>\n",
       "      <td>3761863336822888422</td>\n",
       "    </tr>\n",
       "    <tr>\n",
       "      <th>2</th>\n",
       "      <td>00LMl81F/</td>\n",
       "      <td>1</td>\n",
       "      <td>3.211847</td>\n",
       "      <td>24</td>\n",
       "      <td>13</td>\n",
       "      <td>2</td>\n",
       "      <td>0</td>\n",
       "      <td>0</td>\n",
       "      <td>14</td>\n",
       "      <td>0</td>\n",
       "      <td>3907343276602416620</td>\n",
       "      <td>2</td>\n",
       "      <td>8866488498411657648</td>\n",
       "    </tr>\n",
       "    <tr>\n",
       "      <th>3</th>\n",
       "      <td>00LMl81F/</td>\n",
       "      <td>2</td>\n",
       "      <td>1.600380</td>\n",
       "      <td>15</td>\n",
       "      <td>4</td>\n",
       "      <td>3</td>\n",
       "      <td>0</td>\n",
       "      <td>1</td>\n",
       "      <td>10</td>\n",
       "      <td>6</td>\n",
       "      <td>8866488498411657648</td>\n",
       "      <td>3</td>\n",
       "      <td>3907343276602416620</td>\n",
       "    </tr>\n",
       "    <tr>\n",
       "      <th>4</th>\n",
       "      <td>00OX4xFp/</td>\n",
       "      <td>1</td>\n",
       "      <td>1.237334</td>\n",
       "      <td>9</td>\n",
       "      <td>4</td>\n",
       "      <td>1</td>\n",
       "      <td>0</td>\n",
       "      <td>0</td>\n",
       "      <td>18</td>\n",
       "      <td>3</td>\n",
       "      <td>8693992540127519825</td>\n",
       "      <td>0</td>\n",
       "      <td>-3469812999273933164</td>\n",
       "    </tr>\n",
       "  </tbody>\n",
       "</table>\n",
       "</div>"
      ],
      "text/plain": [
       "     id_odsp  side        xG  shot_count  corner_count  yellow_card_count  \\\n",
       "0  004f4ING/     1  1.443980          15             9                  1   \n",
       "1  004f4ING/     2  0.451829           6             0                  1   \n",
       "2  00LMl81F/     1  3.211847          24            13                  2   \n",
       "3  00LMl81F/     2  1.600380          15             4                  3   \n",
       "4  00OX4xFp/     1  1.237334           9             4                  1   \n",
       "\n",
       "   second_yellow_card_count  red_card_count  free_kick_count  offside_count  \\\n",
       "0                         0               1                8              0   \n",
       "1                         0               0               10              3   \n",
       "2                         0               0               14              0   \n",
       "3                         0               1               10              6   \n",
       "4                         0               0               18              3   \n",
       "\n",
       "            event_team  goals     other_event_team  \n",
       "0  3761863336822888422      0  8888184232156362232  \n",
       "1  8888184232156362232      1  3761863336822888422  \n",
       "2  3907343276602416620      2  8866488498411657648  \n",
       "3  8866488498411657648      3  3907343276602416620  \n",
       "4  8693992540127519825      0 -3469812999273933164  "
      ]
     },
     "execution_count": 59,
     "metadata": {},
     "output_type": "execute_result"
    }
   ],
   "source": [
    "fullDataset.head()"
   ]
  },
  {
   "cell_type": "markdown",
   "metadata": {},
   "source": [
    "## 3.2 Models\n",
    "First we remove from some columns only used to merge tables together and then we proced to split the data into the X and y variables"
   ]
  },
  {
   "cell_type": "code",
   "execution_count": 19,
   "metadata": {},
   "outputs": [],
   "source": [
    "fullDataset['event_team'] = fullDataset['event_team'].apply(hash)\n",
    "fullDataset['other_event_team'] = fullDataset['other_event_team'].apply(hash)\n",
    "colunas = list(fullDataset.columns)\n",
    "colunas.remove('goals')\n",
    "colunas.remove('id_odsp')\n",
    "fullX = fullDataset[colunas]\n",
    "fullY = fullDataset[['goals']].values.ravel()"
   ]
  },
  {
   "cell_type": "code",
   "execution_count": 20,
   "metadata": {},
   "outputs": [],
   "source": [
    "from itertools import combinations\n",
    "columnList = []\n",
    "for i in range(len(fullX.columns)):\n",
    "    columnList.extend( map(lambda x: list(x), sorted(list(combinations(fullX.columns, i+1))))    ) "
   ]
  },
  {
   "cell_type": "markdown",
   "metadata": {},
   "source": [
    "### Finder Function\n",
    "\n",
    "The finder function, explores each attribute effect on the models by testing all possible combinations of the features in the models training."
   ]
  },
  {
   "cell_type": "code",
   "execution_count": 21,
   "metadata": {},
   "outputs": [],
   "source": [
    "def finder(model):\n",
    "    results = []\n",
    "    for i,entry in enumerate(columnList):\n",
    "        print(f'\\rTrying for {i} out of {len(columnList)-1}', end='')\n",
    "        fullXTrain, fullXTest, fullYTrain, fullYTest = train_test_split(fullX[entry], fullY, test_size=0.35, random_state=1)\n",
    "        model.fit(fullXTrain, fullYTrain)\n",
    "        results.append((model.score(fullXTest, fullYTest), entry))\n",
    "    results.sort(reverse=True)\n",
    "    results"
   ]
  },
  {
   "cell_type": "code",
   "execution_count": 22,
   "metadata": {},
   "outputs": [],
   "source": [
    "model_results = []\n",
    "# for calculating F2 adjusted\n",
    "def adjusted_r2(r2, mod):\n",
    "    return (1 - (1 - r2) * ((mod.shape[0] - 1) / \n",
    "          (mod.shape[0] - mod.shape[1] - 1)))"
   ]
  },
  {
   "cell_type": "markdown",
   "metadata": {},
   "source": [
    "### 3.2.1 Models without Team Names\n",
    "For this first models we won't consider the teams playing the game, which are represented by the hashes."
   ]
  },
  {
   "cell_type": "markdown",
   "metadata": {},
   "source": [
    "#### 3.2.1.1 Decision Tree"
   ]
  },
  {
   "cell_type": "code",
   "execution_count": 23,
   "metadata": {},
   "outputs": [],
   "source": [
    "fullXTrain, fullXTest, fullYTrain, fullYTest = train_test_split(fullX.drop(columns=['event_team', 'other_event_team']), fullY, test_size=0.35, random_state=1)\n",
    "decTree = tree.DecisionTreeRegressor(max_depth=5)"
   ]
  },
  {
   "cell_type": "code",
   "execution_count": 24,
   "metadata": {},
   "outputs": [
    {
     "name": "stdout",
     "output_type": "stream",
     "text": [
      "CPU times: user 36.7 ms, sys: 177 µs, total: 36.9 ms\n",
      "Wall time: 36.4 ms\n"
     ]
    },
    {
     "data": {
      "text/plain": [
       "DecisionTreeRegressor(ccp_alpha=0.0, criterion='mse', max_depth=5,\n",
       "                      max_features=None, max_leaf_nodes=None,\n",
       "                      min_impurity_decrease=0.0, min_impurity_split=None,\n",
       "                      min_samples_leaf=1, min_samples_split=2,\n",
       "                      min_weight_fraction_leaf=0.0, presort='deprecated',\n",
       "                      random_state=None, splitter='best')"
      ]
     },
     "execution_count": 24,
     "metadata": {},
     "output_type": "execute_result"
    }
   ],
   "source": [
    "%%time\n",
    "decTree.fit(fullXTrain, fullYTrain)"
   ]
  },
  {
   "cell_type": "code",
   "execution_count": 25,
   "metadata": {},
   "outputs": [
    {
     "name": "stdout",
     "output_type": "stream",
     "text": [
      "CPU times: user 53 µs, sys: 3 ms, total: 3.05 ms\n",
      "Wall time: 2.64 ms\n"
     ]
    }
   ],
   "source": [
    "%%time\n",
    "r2 = decTree.score(fullXTest, fullYTest)"
   ]
  },
  {
   "cell_type": "code",
   "execution_count": 26,
   "metadata": {},
   "outputs": [
    {
     "name": "stdout",
     "output_type": "stream",
     "text": [
      "r2=0.3547569164143809 adjR2=0.35384110065152474 adjR2=0.7750748484028158 sqErr=0.9895923960664861\n"
     ]
    }
   ],
   "source": [
    "predict = decTree.predict(fullXTest)\n",
    "absErr = mean_absolute_error(fullYTest,predict)\n",
    "sqErr = mean_squared_error(fullYTest,predict)\n",
    "adjR2 = adjusted_r2(r2, fullXTest)\n",
    "\n",
    "print(f'r2={r2} adjR2={adjR2} adjR2={absErr} sqErr={sqErr}')\n",
    "model_results.append(['Decision Tree', r2, adjR2, absErr, sqErr])"
   ]
  },
  {
   "cell_type": "markdown",
   "metadata": {},
   "source": [
    "#### 3.2.1.2 Random Forest"
   ]
  },
  {
   "cell_type": "code",
   "execution_count": 27,
   "metadata": {},
   "outputs": [],
   "source": [
    "fullXTrain, fullXTest, fullYTrain, fullYTest = train_test_split(fullX.drop(columns=['event_team', 'other_event_team']), fullY, test_size=0.35, random_state=1)\n",
    "randForest = RandomForestRegressor(max_depth=5)"
   ]
  },
  {
   "cell_type": "code",
   "execution_count": 28,
   "metadata": {},
   "outputs": [
    {
     "name": "stdout",
     "output_type": "stream",
     "text": [
      "CPU times: user 1.11 s, sys: 3.92 ms, total: 1.12 s\n",
      "Wall time: 1.12 s\n"
     ]
    },
    {
     "data": {
      "text/plain": [
       "RandomForestRegressor(bootstrap=True, ccp_alpha=0.0, criterion='mse',\n",
       "                      max_depth=5, max_features='auto', max_leaf_nodes=None,\n",
       "                      max_samples=None, min_impurity_decrease=0.0,\n",
       "                      min_impurity_split=None, min_samples_leaf=1,\n",
       "                      min_samples_split=2, min_weight_fraction_leaf=0.0,\n",
       "                      n_estimators=100, n_jobs=None, oob_score=False,\n",
       "                      random_state=None, verbose=0, warm_start=False)"
      ]
     },
     "execution_count": 28,
     "metadata": {},
     "output_type": "execute_result"
    }
   ],
   "source": [
    "%%time\n",
    "randForest.fit(fullXTrain, fullYTrain)"
   ]
  },
  {
   "cell_type": "code",
   "execution_count": 29,
   "metadata": {},
   "outputs": [
    {
     "name": "stdout",
     "output_type": "stream",
     "text": [
      "CPU times: user 34.7 ms, sys: 11 µs, total: 34.7 ms\n",
      "Wall time: 34.5 ms\n"
     ]
    }
   ],
   "source": [
    "%%time\n",
    "r2 = randForest.score(fullXTest, fullYTest)"
   ]
  },
  {
   "cell_type": "code",
   "execution_count": 30,
   "metadata": {},
   "outputs": [
    {
     "name": "stdout",
     "output_type": "stream",
     "text": [
      "r2=0.373767562612098 adjR2=0.37287872931506416 adjR2=0.7662722860931661 sqErr=0.960436266539257\n"
     ]
    }
   ],
   "source": [
    "predict = randForest.predict(fullXTest)\n",
    "absErr = mean_absolute_error(fullYTest,predict)\n",
    "sqErr = mean_squared_error(fullYTest,predict)\n",
    "adjR2 = adjusted_r2(r2, fullXTest)\n",
    "\n",
    "print(f'r2={r2} adjR2={adjR2} adjR2={absErr} sqErr={sqErr}')\n",
    "model_results.append(['Random Forest', r2, adjR2, absErr, sqErr])"
   ]
  },
  {
   "cell_type": "markdown",
   "metadata": {},
   "source": [
    "#### 3.2.1.3 Support vector machine"
   ]
  },
  {
   "cell_type": "code",
   "execution_count": 31,
   "metadata": {},
   "outputs": [],
   "source": [
    "from sklearn import svm\n",
    "fullXTrain, fullXTest, fullYTrain, fullYTest = train_test_split(fullX.drop(columns=['other_event_team','event_team']), fullY, test_size=0.35, random_state=1)\n",
    "svm = svm.LinearSVR(max_iter=40000)"
   ]
  },
  {
   "cell_type": "code",
   "execution_count": 32,
   "metadata": {},
   "outputs": [
    {
     "name": "stdout",
     "output_type": "stream",
     "text": [
      "CPU times: user 2.76 s, sys: 11.4 ms, total: 2.77 s\n",
      "Wall time: 2.78 s\n"
     ]
    },
    {
     "data": {
      "text/plain": [
       "LinearSVR(C=1.0, dual=True, epsilon=0.0, fit_intercept=True,\n",
       "          intercept_scaling=1.0, loss='epsilon_insensitive', max_iter=40000,\n",
       "          random_state=None, tol=0.0001, verbose=0)"
      ]
     },
     "execution_count": 32,
     "metadata": {},
     "output_type": "execute_result"
    }
   ],
   "source": [
    "%%time\n",
    "svm.fit(fullXTrain, fullYTrain)"
   ]
  },
  {
   "cell_type": "code",
   "execution_count": 33,
   "metadata": {},
   "outputs": [
    {
     "name": "stdout",
     "output_type": "stream",
     "text": [
      "CPU times: user 7.2 ms, sys: 1.39 ms, total: 8.59 ms\n",
      "Wall time: 2.51 ms\n"
     ]
    }
   ],
   "source": [
    "%%time\n",
    "r2 = svm.score(fullXTest, fullYTest)"
   ]
  },
  {
   "cell_type": "code",
   "execution_count": 34,
   "metadata": {},
   "outputs": [
    {
     "name": "stdout",
     "output_type": "stream",
     "text": [
      "r2=0.3671236203918111 adjR2=0.3662253571184356 adjR2=0.7564911351197798 sqErr=0.9706259064879175\n"
     ]
    }
   ],
   "source": [
    "predict = svm.predict(fullXTest)\n",
    "absErr = mean_absolute_error(fullYTest,predict)\n",
    "sqErr = mean_squared_error(fullYTest,predict)\n",
    "adjR2 = adjusted_r2(r2, fullXTest)\n",
    "\n",
    "print(f'r2={r2} adjR2={adjR2} adjR2={absErr} sqErr={sqErr}')\n",
    "model_results.append(['Linear SVR', r2, adjR2, absErr, sqErr])"
   ]
  },
  {
   "cell_type": "markdown",
   "metadata": {},
   "source": [
    "#### 3.2.1.4 Neural Network (Multiple layer perceptron)"
   ]
  },
  {
   "cell_type": "code",
   "execution_count": 35,
   "metadata": {},
   "outputs": [],
   "source": [
    "fullXTrain, fullXTest, fullYTrain, fullYTest = train_test_split(fullX.drop(columns=['other_event_team','event_team']), fullY, test_size=0.35, random_state=1)\n",
    "mlpReg = MLPRegressor()"
   ]
  },
  {
   "cell_type": "code",
   "execution_count": 36,
   "metadata": {},
   "outputs": [
    {
     "name": "stdout",
     "output_type": "stream",
     "text": [
      "CPU times: user 24.2 s, sys: 23.6 s, total: 47.8 s\n",
      "Wall time: 6.93 s\n"
     ]
    },
    {
     "data": {
      "text/plain": [
       "MLPRegressor(activation='relu', alpha=0.0001, batch_size='auto', beta_1=0.9,\n",
       "             beta_2=0.999, early_stopping=False, epsilon=1e-08,\n",
       "             hidden_layer_sizes=(100,), learning_rate='constant',\n",
       "             learning_rate_init=0.001, max_fun=15000, max_iter=200,\n",
       "             momentum=0.9, n_iter_no_change=10, nesterovs_momentum=True,\n",
       "             power_t=0.5, random_state=None, shuffle=True, solver='adam',\n",
       "             tol=0.0001, validation_fraction=0.1, verbose=False,\n",
       "             warm_start=False)"
      ]
     },
     "execution_count": 36,
     "metadata": {},
     "output_type": "execute_result"
    }
   ],
   "source": [
    "%%time\n",
    "mlpReg.fit(fullXTrain, fullYTrain)"
   ]
  },
  {
   "cell_type": "code",
   "execution_count": 37,
   "metadata": {},
   "outputs": [
    {
     "name": "stdout",
     "output_type": "stream",
     "text": [
      "CPU times: user 39.6 ms, sys: 96.6 ms, total: 136 ms\n",
      "Wall time: 20.2 ms\n"
     ]
    }
   ],
   "source": [
    "%%time\n",
    "r2 = mlpReg.score(fullXTest, fullYTest)"
   ]
  },
  {
   "cell_type": "code",
   "execution_count": 38,
   "metadata": {},
   "outputs": [
    {
     "name": "stdout",
     "output_type": "stream",
     "text": [
      "r2=0.36621128680510373 adjR2=0.36531172862520245 adjR2=0.7535971771069536 sqErr=0.9720251285842857\n"
     ]
    }
   ],
   "source": [
    "predict = mlpReg.predict(fullXTest)\n",
    "absErr = mean_absolute_error(fullYTest,predict)\n",
    "sqErr = mean_squared_error(fullYTest,predict)\n",
    "adjR2 = adjusted_r2(r2, fullXTest)\n",
    "\n",
    "print(f'r2={r2} adjR2={adjR2} adjR2={absErr} sqErr={sqErr}')\n",
    "model_results.append(['MLP', r2, adjR2, absErr, sqErr])"
   ]
  },
  {
   "cell_type": "markdown",
   "metadata": {},
   "source": [
    "#### 3.2.1.5 Metrics comparisons\n",
    "We use as indicators: R², MAE, MSE and adjusted R²"
   ]
  },
  {
   "cell_type": "code",
   "execution_count": 39,
   "metadata": {
    "scrolled": true
   },
   "outputs": [
    {
     "data": {
      "text/plain": [
       "<seaborn.axisgrid.FacetGrid at 0x7f9cf83c7f90>"
      ]
     },
     "execution_count": 39,
     "metadata": {},
     "output_type": "execute_result"
    },
    {
     "data": {
      "image/png": "[encoded data removed]",
      "text/plain": [
       "<Figure size 360x360 with 1 Axes>"
      ]
     },
     "metadata": {
      "needs_background": "light"
     },
     "output_type": "display_data"
    },
    {
     "data": {
      "image/png": "[encoded data removed]",
      "text/plain": [
       "<Figure size 360x360 with 1 Axes>"
      ]
     },
     "metadata": {
      "needs_background": "light"
     },
     "output_type": "display_data"
    },
    {
     "data": {
      "image/png": "[encoded data removed]",
      "text/plain": [
       "<Figure size 360x360 with 1 Axes>"
      ]
     },
     "metadata": {
      "needs_background": "light"
     },
     "output_type": "display_data"
    },
    {
     "data": {
      "image/png": "[encoded data removed]",
      "text/plain": [
       "<Figure size 360x360 with 1 Axes>"
      ]
     },
     "metadata": {
      "needs_background": "light"
     },
     "output_type": "display_data"
    }
   ],
   "source": [
    "results = pd.DataFrame(model_results, columns=['regressor_name', 'r2', 'adjR2', 'absErr', 'sqErr'])\n",
    "sb.catplot(x='regressor_name', y='r2', kind='bar',data=results)\n",
    "sb.catplot(x='regressor_name', y='adjR2', kind='bar',data=results)\n",
    "sb.catplot(x='regressor_name', y='absErr', kind='bar',data=results)\n",
    "sb.catplot(x='regressor_name', y='sqErr', kind='bar',data=results)"
   ]
  },
  {
   "cell_type": "markdown",
   "metadata": {},
   "source": [
    "### 3.2.2 Team Name Effects\n",
    "In this section we have in mind the team's hashes."
   ]
  },
  {
   "cell_type": "code",
   "execution_count": 40,
   "metadata": {},
   "outputs": [],
   "source": [
    "model_results.clear()"
   ]
  },
  {
   "cell_type": "markdown",
   "metadata": {},
   "source": [
    "#### 3.2.2.1 Decision Tree"
   ]
  },
  {
   "cell_type": "code",
   "execution_count": 41,
   "metadata": {},
   "outputs": [],
   "source": [
    "fullXTrain, fullXTest, fullYTrain, fullYTest = train_test_split(fullX, fullY, test_size=0.35, random_state=1)\n",
    "decTree = tree.DecisionTreeRegressor(max_depth=5)"
   ]
  },
  {
   "cell_type": "code",
   "execution_count": 42,
   "metadata": {},
   "outputs": [
    {
     "name": "stdout",
     "output_type": "stream",
     "text": [
      "CPU times: user 41 ms, sys: 843 µs, total: 41.8 ms\n",
      "Wall time: 41.2 ms\n"
     ]
    },
    {
     "data": {
      "text/plain": [
       "DecisionTreeRegressor(ccp_alpha=0.0, criterion='mse', max_depth=5,\n",
       "                      max_features=None, max_leaf_nodes=None,\n",
       "                      min_impurity_decrease=0.0, min_impurity_split=None,\n",
       "                      min_samples_leaf=1, min_samples_split=2,\n",
       "                      min_weight_fraction_leaf=0.0, presort='deprecated',\n",
       "                      random_state=None, splitter='best')"
      ]
     },
     "execution_count": 42,
     "metadata": {},
     "output_type": "execute_result"
    }
   ],
   "source": [
    "%%time\n",
    "decTree.fit(fullXTrain, fullYTrain)"
   ]
  },
  {
   "cell_type": "code",
   "execution_count": 43,
   "metadata": {},
   "outputs": [
    {
     "name": "stdout",
     "output_type": "stream",
     "text": [
      "CPU times: user 3.02 ms, sys: 167 µs, total: 3.19 ms\n",
      "Wall time: 2.83 ms\n"
     ]
    }
   ],
   "source": [
    "%%time\n",
    "r2 = decTree.score(fullXTest, fullYTest)"
   ]
  },
  {
   "cell_type": "code",
   "execution_count": 44,
   "metadata": {},
   "outputs": [
    {
     "name": "stdout",
     "output_type": "stream",
     "text": [
      "r2=0.3539499422456758 adjR2=0.3528288583782997 adjR2=0.7769420977433457 sqErr=0.9908300311864705\n"
     ]
    }
   ],
   "source": [
    "predict = decTree.predict(fullXTest)\n",
    "absErr = mean_absolute_error(fullYTest,predict)\n",
    "sqErr = mean_squared_error(fullYTest,predict)\n",
    "adjR2 = adjusted_r2(r2, fullXTest)\n",
    "\n",
    "print(f'r2={r2} adjR2={adjR2} adjR2={absErr} sqErr={sqErr}')\n",
    "model_results.append(['Decision Tree', r2, adjR2, absErr, sqErr])"
   ]
  },
  {
   "cell_type": "markdown",
   "metadata": {},
   "source": [
    "#### 3.2.1.2 Random Forest"
   ]
  },
  {
   "cell_type": "code",
   "execution_count": 45,
   "metadata": {},
   "outputs": [],
   "source": [
    "fullXTrain, fullXTest, fullYTrain, fullYTest = train_test_split(fullX, fullY, test_size=0.35, random_state=1)\n",
    "randForest = RandomForestRegressor(max_depth=5)"
   ]
  },
  {
   "cell_type": "code",
   "execution_count": 46,
   "metadata": {},
   "outputs": [
    {
     "name": "stdout",
     "output_type": "stream",
     "text": [
      "CPU times: user 1.47 s, sys: 4.74 ms, total: 1.47 s\n",
      "Wall time: 1.47 s\n"
     ]
    },
    {
     "data": {
      "text/plain": [
       "RandomForestRegressor(bootstrap=True, ccp_alpha=0.0, criterion='mse',\n",
       "                      max_depth=5, max_features='auto', max_leaf_nodes=None,\n",
       "                      max_samples=None, min_impurity_decrease=0.0,\n",
       "                      min_impurity_split=None, min_samples_leaf=1,\n",
       "                      min_samples_split=2, min_weight_fraction_leaf=0.0,\n",
       "                      n_estimators=100, n_jobs=None, oob_score=False,\n",
       "                      random_state=None, verbose=0, warm_start=False)"
      ]
     },
     "execution_count": 46,
     "metadata": {},
     "output_type": "execute_result"
    }
   ],
   "source": [
    "%%time\n",
    "randForest.fit(fullXTrain, fullYTrain)"
   ]
  },
  {
   "cell_type": "code",
   "execution_count": 47,
   "metadata": {},
   "outputs": [
    {
     "name": "stdout",
     "output_type": "stream",
     "text": [
      "CPU times: user 33.1 ms, sys: 856 µs, total: 34 ms\n",
      "Wall time: 33.2 ms\n"
     ]
    }
   ],
   "source": [
    "%%time\n",
    "r2 = randForest.score(fullXTest, fullYTest)"
   ]
  },
  {
   "cell_type": "code",
   "execution_count": 48,
   "metadata": {},
   "outputs": [
    {
     "name": "stdout",
     "output_type": "stream",
     "text": [
      "r2=0.37397065363710846 adjR2=0.3728843114995487 adjR2=0.7659417859801619 sqErr=0.9601247911601752\n"
     ]
    }
   ],
   "source": [
    "predict = randForest.predict(fullXTest)\n",
    "absErr = mean_absolute_error(fullYTest,predict)\n",
    "sqErr = mean_squared_error(fullYTest,predict)\n",
    "adjR2 = adjusted_r2(r2, fullXTest)\n",
    "\n",
    "print(f'r2={r2} adjR2={adjR2} adjR2={absErr} sqErr={sqErr}')\n",
    "model_results.append(['Random Forest', r2, adjR2, absErr, sqErr])"
   ]
  },
  {
   "cell_type": "markdown",
   "metadata": {},
   "source": [
    "#### 3.2.1.3 Support vector machine"
   ]
  },
  {
   "cell_type": "code",
   "execution_count": 49,
   "metadata": {},
   "outputs": [],
   "source": [
    "from sklearn import svm\n",
    "fullXTrain, fullXTest, fullYTrain, fullYTest = train_test_split(fullX, fullY, test_size=0.35, random_state=1)\n",
    "svm = svm.LinearSVR(max_iter=40000)"
   ]
  },
  {
   "cell_type": "code",
   "execution_count": 50,
   "metadata": {},
   "outputs": [
    {
     "name": "stdout",
     "output_type": "stream",
     "text": [
      "CPU times: user 27.7 s, sys: 57.6 ms, total: 27.7 s\n",
      "Wall time: 27.7 s\n"
     ]
    },
    {
     "name": "stderr",
     "output_type": "stream",
     "text": [
      "/home/paulo/.local/lib/python3.7/site-packages/sklearn/svm/_base.py:947: ConvergenceWarning: Liblinear failed to converge, increase the number of iterations.\n",
      "  \"the number of iterations.\", ConvergenceWarning)\n"
     ]
    },
    {
     "data": {
      "text/plain": [
       "LinearSVR(C=1.0, dual=True, epsilon=0.0, fit_intercept=True,\n",
       "          intercept_scaling=1.0, loss='epsilon_insensitive', max_iter=40000,\n",
       "          random_state=None, tol=0.0001, verbose=0)"
      ]
     },
     "execution_count": 50,
     "metadata": {},
     "output_type": "execute_result"
    }
   ],
   "source": [
    "%%time\n",
    "svm.fit(fullXTrain, fullYTrain)"
   ]
  },
  {
   "cell_type": "code",
   "execution_count": 51,
   "metadata": {},
   "outputs": [
    {
     "name": "stdout",
     "output_type": "stream",
     "text": [
      "CPU times: user 7.46 ms, sys: 2.28 ms, total: 9.74 ms\n",
      "Wall time: 2.43 ms\n"
     ]
    }
   ],
   "source": [
    "%%time\n",
    "r2 = svm.score(fullXTest, fullYTest)"
   ]
  },
  {
   "cell_type": "code",
   "execution_count": 52,
   "metadata": {},
   "outputs": [
    {
     "name": "stdout",
     "output_type": "stream",
     "text": [
      "r2=-1.2011501908147681 adjR2=-1.2049698235800248 adjR2=1.3572665721933554 sqErr=3.3758463234136356\n"
     ]
    }
   ],
   "source": [
    "predict = svm.predict(fullXTest)\n",
    "absErr = mean_absolute_error(fullYTest,predict)\n",
    "sqErr = mean_squared_error(fullYTest,predict)\n",
    "adjR2 = adjusted_r2(r2, fullXTest)\n",
    "\n",
    "print(f'r2={r2} adjR2={adjR2} adjR2={absErr} sqErr={sqErr}')\n",
    "model_results.append(['Linear SVR', r2, adjR2, absErr, sqErr])"
   ]
  },
  {
   "cell_type": "markdown",
   "metadata": {},
   "source": [
    "#### 3.2.1.4 Neural Network (Multiple layer perceptron)"
   ]
  },
  {
   "cell_type": "code",
   "execution_count": 53,
   "metadata": {},
   "outputs": [],
   "source": [
    "fullXTrain, fullXTest, fullYTrain, fullYTest = train_test_split(fullX, fullY, test_size=0.35, random_state=1)\n",
    "mlpReg = MLPRegressor()"
   ]
  },
  {
   "cell_type": "code",
   "execution_count": 54,
   "metadata": {},
   "outputs": [
    {
     "name": "stdout",
     "output_type": "stream",
     "text": [
      "CPU times: user 33.6 s, sys: 33.5 s, total: 1min 7s\n",
      "Wall time: 9.38 s\n"
     ]
    },
    {
     "data": {
      "text/plain": [
       "MLPRegressor(activation='relu', alpha=0.0001, batch_size='auto', beta_1=0.9,\n",
       "             beta_2=0.999, early_stopping=False, epsilon=1e-08,\n",
       "             hidden_layer_sizes=(100,), learning_rate='constant',\n",
       "             learning_rate_init=0.001, max_fun=15000, max_iter=200,\n",
       "             momentum=0.9, n_iter_no_change=10, nesterovs_momentum=True,\n",
       "             power_t=0.5, random_state=None, shuffle=True, solver='adam',\n",
       "             tol=0.0001, validation_fraction=0.1, verbose=False,\n",
       "             warm_start=False)"
      ]
     },
     "execution_count": 54,
     "metadata": {},
     "output_type": "execute_result"
    }
   ],
   "source": [
    "%%time\n",
    "mlpReg.fit(fullXTrain, fullYTrain)"
   ]
  },
  {
   "cell_type": "code",
   "execution_count": 55,
   "metadata": {},
   "outputs": [
    {
     "name": "stdout",
     "output_type": "stream",
     "text": [
      "CPU times: user 22.9 ms, sys: 57.6 ms, total: 80.4 ms\n",
      "Wall time: 12.2 ms\n"
     ]
    }
   ],
   "source": [
    "%%time\n",
    "r2 = mlpReg.score(fullXTest, fullYTest)"
   ]
  },
  {
   "cell_type": "code",
   "execution_count": 56,
   "metadata": {},
   "outputs": [
    {
     "name": "stdout",
     "output_type": "stream",
     "text": [
      "r2=-8.65895924188024e+29 adjR2=-8.673985042741682e+29 adjR2=877424066050555.9 sqErr=1.328001871170354e+30\n"
     ]
    }
   ],
   "source": [
    "predict = mlpReg.predict(fullXTest)\n",
    "absErr = mean_absolute_error(fullYTest,predict)\n",
    "sqErr = mean_squared_error(fullYTest,predict)\n",
    "adjR2 = adjusted_r2(r2, fullXTest)\n",
    "\n",
    "print(f'r2={r2} adjR2={adjR2} adjR2={absErr} sqErr={sqErr}')\n",
    "model_results.append(['MLP', r2, adjR2, absErr, sqErr])"
   ]
  },
  {
   "cell_type": "markdown",
   "metadata": {},
   "source": [
    "#### 3.2.1.5 Metrics comparisons\n",
    "We use as indicators: R², MAE, MSE and adjusted R²"
   ]
  },
  {
   "cell_type": "code",
   "execution_count": 57,
   "metadata": {
    "scrolled": true
   },
   "outputs": [
    {
     "data": {
      "text/plain": [
       "<seaborn.axisgrid.FacetGrid at 0x7f9cf844af10>"
      ]
     },
     "execution_count": 57,
     "metadata": {},
     "output_type": "execute_result"
    },
    {
     "data": {
      "image/png": "[encoded data removed]",
      "text/plain": [
       "<Figure size 360x360 with 1 Axes>"
      ]
     },
     "metadata": {
      "needs_background": "light"
     },
     "output_type": "display_data"
    },
    {
     "data": {
      "image/png": "[encoded data removed]",
      "text/plain": [
       "<Figure size 360x360 with 1 Axes>"
      ]
     },
     "metadata": {
      "needs_background": "light"
     },
     "output_type": "display_data"
    },
    {
     "data": {
      "image/png": "[encoded data removed]",
      "text/plain": [
       "<Figure size 360x360 with 1 Axes>"
      ]
     },
     "metadata": {
      "needs_background": "light"
     },
     "output_type": "display_data"
    },
    {
     "data": {
      "image/png": "[encoded data removed]",
      "text/plain": [
       "<Figure size 360x360 with 1 Axes>"
      ]
     },
     "metadata": {
      "needs_background": "light"
     },
     "output_type": "display_data"
    }
   ],
   "source": [
    "results = pd.DataFrame(model_results, columns=['regressor_name', 'r2', 'adjR2', 'absErr', 'sqErr'])\n",
    "sb.catplot(x='regressor_name', y='r2', kind='bar',data=results)\n",
    "sb.catplot(x='regressor_name', y='adjR2', kind='bar',data=results)\n",
    "sb.catplot(x='regressor_name', y='absErr', kind='bar',data=results)\n",
    "sb.catplot(x='regressor_name', y='sqErr', kind='bar',data=results)"
   ]
  },
  {
   "cell_type": "markdown",
   "metadata": {},
   "source": [
    "#### Without MLP"
   ]
  },
  {
   "cell_type": "code",
   "execution_count": 58,
   "metadata": {},
   "outputs": [
    {
     "data": {
      "text/plain": [
       "<seaborn.axisgrid.FacetGrid at 0x7f9cf8315590>"
      ]
     },
     "execution_count": 58,
     "metadata": {},
     "output_type": "execute_result"
    },
    {
     "data": {
      "image/png": "[encoded data removed]",
      "text/plain": [
       "<Figure size 360x360 with 1 Axes>"
      ]
     },
     "metadata": {
      "needs_background": "light"
     },
     "output_type": "display_data"
    },
    {
     "data": {
      "image/png": "[encoded data removed]",
      "text/plain": [
       "<Figure size 360x360 with 1 Axes>"
      ]
     },
     "metadata": {
      "needs_background": "light"
     },
     "output_type": "display_data"
    },
    {
     "data": {
      "image/png": "[encoded data removed]",
      "text/plain": [
       "<Figure size 360x360 with 1 Axes>"
      ]
     },
     "metadata": {
      "needs_background": "light"
     },
     "output_type": "display_data"
    },
    {
     "data": {
      "image/png": "[encoded data removed]",
      "text/plain": [
       "<Figure size 360x360 with 1 Axes>"
      ]
     },
     "metadata": {
      "needs_background": "light"
     },
     "output_type": "display_data"
    }
   ],
   "source": [
    "results = pd.DataFrame(filter(lambda x: x[0] != 'MLP', model_results), columns=['regressor_name', 'r2', 'adjR2', 'absErr', 'sqErr'])\n",
    "sb.catplot(x='regressor_name', y='r2', kind='bar',data=results)\n",
    "sb.catplot(x='regressor_name', y='adjR2', kind='bar',data=results)\n",
    "sb.catplot(x='regressor_name', y='absErr', kind='bar',data=results)\n",
    "sb.catplot(x='regressor_name', y='sqErr', kind='bar',data=results)\n"
   ]
  },
  {
   "cell_type": "markdown",
   "metadata": {},
   "source": [
    "# 4. Evaluation"
   ]
  },
  {
   "cell_type": "markdown",
   "metadata": {},
   "source": [
    "## 4.1 Decision Tree Based Models\n",
    "\n",
    "### 4.1.2  Advantages\n",
    "Compared to other models decisions trees showed almost no change when including both team names, these parameters showing up in deeper levels of the trees, which implies the model was able to recognize some teams. The problem is the lack of versatality, since the decisions are based on lower/bigger than comparisons then if a new team is introduced the model wouldn't be able to capture it correctly.\n",
    "\n",
    "\n",
    "### 4.1.3 Disadvantges\n",
    "\n",
    "Although they can model very well the dataset, it was verified that they're less flexible in terms of newer incoming data."
   ]
  },
  {
   "cell_type": "markdown",
   "metadata": {},
   "source": [
    "## 4.2 SVM and MLP Models\n",
    "\n",
    "### 4.2.1 Advantages\n",
    "\n",
    "These models capture some nuances about the dataset, thus they can be more versatile and deal better with newer incoming data.\n",
    "\n",
    "### 4.2.2 Disadvantages\n",
    "\n",
    "These models deal terribly with categorical data, team names, making the result not adapted at all to the dataset. By removing the team names they started to get results that matched the decision tree based models. Thus when working these kinds of models it's highly important to do feature analysis and understand which ones are driving the decisions."
   ]
  },
  {
   "cell_type": "markdown",
   "metadata": {},
   "source": [
    "### 4.3 Team Names - Feature analysis\n",
    "\n",
    "At first it was thought that including the team names was crucial to calculate the number of goals. Decision trees showed promising results but the MLP and SVM Models were severally lacking in this component, showing a negative adaptation to the data.\n",
    "\n",
    "By removing these fields it can be seen that it the models that were performing well and the ones that were having trouble modeling, improved by a landslide their results. This implies that the models are already taking into consideration the teams, by implicitly extrapolating through the features (namely xG)."
   ]
  },
  {
   "cell_type": "markdown",
   "metadata": {},
   "source": [
    "# 5. Conclusions\n",
    "\n",
    "\n",
    "\n",
    "Football matches are inherently non-determistic and its outcomes can't predicted simply by looking at what's going in the field.\n",
    "\n",
    "The number of goals and team scores doesn't depend only on the recorded statistics, it also depends on player health, team state of mind, factors that are foreign to the games like club internal conflicts, that are not captured in this dataset.\n",
    "An example of a situation not captured, are the \"bad days\" of the athletes, where they are statistically regular but their shots are not scoring.\n",
    "Outlier detection gets harder, due to not existing a baseline to go off width.\n",
    "\n",
    "To finalize, the dataset while containing some key events of the match also fails to capture other statistics such as ball possession that is fundamental to determine who's controlling the match."
   ]
  },
  {
   "cell_type": "markdown",
   "metadata": {},
   "source": [
    "### References"
   ]
  },
  {
   "cell_type": "markdown",
   "metadata": {},
   "source": []
  },
  {
   "cell_type": "code",
   "execution_count": null,
   "metadata": {},
   "outputs": [],
   "source": []
  }
 ],
 "metadata": {
  "kernelspec": {
   "display_name": "Python 3",
   "language": "python",
   "name": "python3"
  },
  "language_info": {
   "codemirror_mode": {
    "name": "ipython",
    "version": 3
   },
   "file_extension": ".py",
   "mimetype": "text/x-python",
   "name": "python",
   "nbconvert_exporter": "python",
   "pygments_lexer": "ipython3",
   "version": "3.7.5"
  }
 },
 "nbformat": 4,
 "nbformat_minor": 4
}
