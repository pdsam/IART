{
 "cells": [
  {
   "cell_type": "markdown",
   "metadata": {},
   "source": [
    "# Comparing diferent machine learning techniques to predict football results\n",
    "# - Authors and affiliations\n",
    "### Abstract"
   ]
  },
  {
   "cell_type": "markdown",
   "metadata": {},
   "source": [
    "# 1. Introduction\n",
    "\n",
    "As one of the most popular sports on the planet, football has always been followed\n",
    "very closely by a large number of people. In recent years, new types of data have\n",
    "been collected for many games in various countries, such as play-by-play data including information on each shot or pass made in a match.\n",
    "\n",
    "Information like this can be found in datasets like [the Football Events dataset](https://datasetsearch.research.google.com/search?docid=beC2NjeMuiLj9GvLAAAAAA%3D%3D) found on kaggle.\n",
    "\n",
    "This projects objective is to use the above mentioned dataset to predict the number of goals on a football game using Regression algorithms.\n",
    "This paper will start with an explanation and analysis of the used dataset, followed by an explanation of the approach the was decided to be used.\n",
    "\n",
    "Tests will be performed on the developed models and explanation for the results will be given at the end."
   ]
  },
  {
   "cell_type": "markdown",
   "metadata": {},
   "source": [
    "# 2. Description of the problem/dataset\n",
    "\n",
    "Our data set has two files of data and one dictionary. The first file (events.csv) gives information on all the\n",
    "recorded events with 941,009 events for 9,074 games. The second file (ginf.csv) gives the details of the\n",
    "odds for the games recorded in the first file . for each league we have information on the seasons\n",
    "from 2012 to 2017 except the English league which information only starts in the season 2014.\n",
    "The dictionary helps us to understands the values in some of the columns of the events table.\n",
    "\n",
    "We will focus more on the first table which will be the most useful since we not using odds.\n",
    "\n",
    "## 2.1. events.csv Columns\n",
    "\n",
    "1. id odsp : Unique identifier of the game (odsp stands from oddsportal.com)\n",
    "2. id event : Unique identifier of event (id odsp + sort order)\n",
    "3. sort order : Chronological sequence of events in a game\n",
    "4. time : Minute of the game when the event happened\n",
    "5. text : Text commentary\n",
    "6. event type : Primary event. 11 unique events (1-Attempt(shot), 2-Corner, 3-Foul, 4-Yellow Card, 5-Second Yellow Card, 6-(Straight) Red Card, 7-Substitution, 8-Free Kick Won, 9-Offside, 10-Hand Ball, 11-Penalty conceded)\n",
    "7. event type2 : Cecondary event. 4 unique events (12 - Key Pass, 13 - Failed through ball, 14-Sending off, 15-Own goal)\n",
    "8. side : 1-Home, 2-Away\n",
    "9. event team : Team that produced the event. In case of Own goals, event team is the team that benefited from the own goal\n",
    "10. opponent : Team that the event happened against\n",
    "11. player : Name of the player involved in main event (converted to lowercase and special\n",
    "chars were removed)\n",
    "12. player2 : Name of player involved in secondary event 8\n",
    "13. player in : Player that came in (only applies to substitutions)\n",
    "14. player out : Player substituted (only applies to substitutions)\n",
    "15. shot place : Placement of the shot (13 possible placement locations, available in the\n",
    "dictionary, only applies to shots)\n",
    "16. shot outcome : 4 possible outcomes (1-On target, 2-Off target, 3-Blocked, 4-Hit the post)\n",
    "17. is goal : Binary variable if the shot resulted in a goal (own goals included)\n",
    "18. location : Location on the pitch where the event happened (19 possible locations, available\n",
    "in the dictionary)\n",
    "19. bodypart : (1- right foot, 2-left foot, 3-head)\n",
    "20. assist method : In case of an assisted shot, 5 possible assist methods (details in the dictionary)\n",
    "21. situation : 4 types: 1-Open Play, 2-Set piece (excluding Direct Free kicks), 3-Corner, 4-Free kick"
   ]
  },
  {
   "cell_type": "markdown",
   "metadata": {},
   "source": [
    "## 2.2 Loading the Data"
   ]
  },
  {
   "cell_type": "code",
   "execution_count": 7,
   "metadata": {},
   "outputs": [],
   "source": [
    "import pandas as pd\n",
    "import numpy as np\n",
    "import matplotlib as plt\n",
    "from matplotlib import pyplot\n",
    "import scipy as sp\n",
    "import seaborn as sb"
   ]
  },
  {
   "cell_type": "markdown",
   "metadata": {},
   "source": [
    "From the website we also know that the missing values are set as 'NA'so we should treat them as such"
   ]
  },
  {
   "cell_type": "code",
   "execution_count": 8,
   "metadata": {},
   "outputs": [],
   "source": [
    "events = pd.read_csv('football-events/events.csv',na_values=['NA'])\n",
    "games = pd.read_csv('football-events/ginf.csv',na_values=['NA'])"
   ]
  },
  {
   "cell_type": "code",
   "execution_count": 3,
   "metadata": {},
   "outputs": [
    {
     "data": {
      "text/html": [
       "<div>\n",
       "<style scoped>\n",
       "    .dataframe tbody tr th:only-of-type {\n",
       "        vertical-align: middle;\n",
       "    }\n",
       "\n",
       "    .dataframe tbody tr th {\n",
       "        vertical-align: top;\n",
       "    }\n",
       "\n",
       "    .dataframe thead th {\n",
       "        text-align: right;\n",
       "    }\n",
       "</style>\n",
       "<table border=\"1\" class=\"dataframe\">\n",
       "  <thead>\n",
       "    <tr style=\"text-align: right;\">\n",
       "      <th></th>\n",
       "      <th>sort_order</th>\n",
       "      <th>time</th>\n",
       "      <th>event_type</th>\n",
       "      <th>event_type2</th>\n",
       "      <th>side</th>\n",
       "      <th>shot_place</th>\n",
       "      <th>shot_outcome</th>\n",
       "      <th>is_goal</th>\n",
       "      <th>location</th>\n",
       "      <th>bodypart</th>\n",
       "      <th>assist_method</th>\n",
       "      <th>situation</th>\n",
       "      <th>fast_break</th>\n",
       "    </tr>\n",
       "  </thead>\n",
       "  <tbody>\n",
       "    <tr>\n",
       "      <th>count</th>\n",
       "      <td>941009.000000</td>\n",
       "      <td>941009.000000</td>\n",
       "      <td>941009.000000</td>\n",
       "      <td>214293.000000</td>\n",
       "      <td>941009.000000</td>\n",
       "      <td>227459.000000</td>\n",
       "      <td>228498.000000</td>\n",
       "      <td>941009.000000</td>\n",
       "      <td>467067.000000</td>\n",
       "      <td>229185.000000</td>\n",
       "      <td>941009.000000</td>\n",
       "      <td>229137.000000</td>\n",
       "      <td>941009.000000</td>\n",
       "    </tr>\n",
       "    <tr>\n",
       "      <th>mean</th>\n",
       "      <td>53.858826</td>\n",
       "      <td>49.663663</td>\n",
       "      <td>4.326575</td>\n",
       "      <td>12.233764</td>\n",
       "      <td>1.481170</td>\n",
       "      <td>5.733693</td>\n",
       "      <td>1.926555</td>\n",
       "      <td>0.025978</td>\n",
       "      <td>6.209073</td>\n",
       "      <td>1.624831</td>\n",
       "      <td>0.264332</td>\n",
       "      <td>1.281316</td>\n",
       "      <td>0.004876</td>\n",
       "    </tr>\n",
       "    <tr>\n",
       "      <th>std</th>\n",
       "      <td>32.014268</td>\n",
       "      <td>26.488977</td>\n",
       "      <td>2.995313</td>\n",
       "      <td>0.468850</td>\n",
       "      <td>0.499646</td>\n",
       "      <td>3.326100</td>\n",
       "      <td>0.797055</td>\n",
       "      <td>0.159071</td>\n",
       "      <td>5.421736</td>\n",
       "      <td>0.740400</td>\n",
       "      <td>0.655501</td>\n",
       "      <td>0.709394</td>\n",
       "      <td>0.069655</td>\n",
       "    </tr>\n",
       "    <tr>\n",
       "      <th>min</th>\n",
       "      <td>1.000000</td>\n",
       "      <td>0.000000</td>\n",
       "      <td>1.000000</td>\n",
       "      <td>12.000000</td>\n",
       "      <td>1.000000</td>\n",
       "      <td>1.000000</td>\n",
       "      <td>1.000000</td>\n",
       "      <td>0.000000</td>\n",
       "      <td>1.000000</td>\n",
       "      <td>1.000000</td>\n",
       "      <td>0.000000</td>\n",
       "      <td>1.000000</td>\n",
       "      <td>0.000000</td>\n",
       "    </tr>\n",
       "    <tr>\n",
       "      <th>25%</th>\n",
       "      <td>27.000000</td>\n",
       "      <td>27.000000</td>\n",
       "      <td>2.000000</td>\n",
       "      <td>12.000000</td>\n",
       "      <td>1.000000</td>\n",
       "      <td>2.000000</td>\n",
       "      <td>1.000000</td>\n",
       "      <td>0.000000</td>\n",
       "      <td>2.000000</td>\n",
       "      <td>1.000000</td>\n",
       "      <td>0.000000</td>\n",
       "      <td>1.000000</td>\n",
       "      <td>0.000000</td>\n",
       "    </tr>\n",
       "    <tr>\n",
       "      <th>50%</th>\n",
       "      <td>53.000000</td>\n",
       "      <td>51.000000</td>\n",
       "      <td>3.000000</td>\n",
       "      <td>12.000000</td>\n",
       "      <td>1.000000</td>\n",
       "      <td>5.000000</td>\n",
       "      <td>2.000000</td>\n",
       "      <td>0.000000</td>\n",
       "      <td>3.000000</td>\n",
       "      <td>1.000000</td>\n",
       "      <td>0.000000</td>\n",
       "      <td>1.000000</td>\n",
       "      <td>0.000000</td>\n",
       "    </tr>\n",
       "    <tr>\n",
       "      <th>75%</th>\n",
       "      <td>79.000000</td>\n",
       "      <td>73.000000</td>\n",
       "      <td>8.000000</td>\n",
       "      <td>12.000000</td>\n",
       "      <td>2.000000</td>\n",
       "      <td>9.000000</td>\n",
       "      <td>3.000000</td>\n",
       "      <td>0.000000</td>\n",
       "      <td>11.000000</td>\n",
       "      <td>2.000000</td>\n",
       "      <td>0.000000</td>\n",
       "      <td>1.000000</td>\n",
       "      <td>0.000000</td>\n",
       "    </tr>\n",
       "    <tr>\n",
       "      <th>max</th>\n",
       "      <td>180.000000</td>\n",
       "      <td>100.000000</td>\n",
       "      <td>11.000000</td>\n",
       "      <td>15.000000</td>\n",
       "      <td>2.000000</td>\n",
       "      <td>13.000000</td>\n",
       "      <td>4.000000</td>\n",
       "      <td>1.000000</td>\n",
       "      <td>19.000000</td>\n",
       "      <td>3.000000</td>\n",
       "      <td>4.000000</td>\n",
       "      <td>4.000000</td>\n",
       "      <td>1.000000</td>\n",
       "    </tr>\n",
       "  </tbody>\n",
       "</table>\n",
       "</div>"
      ],
      "text/plain": [
       "          sort_order           time     event_type    event_type2  \\\n",
       "count  941009.000000  941009.000000  941009.000000  214293.000000   \n",
       "mean       53.858826      49.663663       4.326575      12.233764   \n",
       "std        32.014268      26.488977       2.995313       0.468850   \n",
       "min         1.000000       0.000000       1.000000      12.000000   \n",
       "25%        27.000000      27.000000       2.000000      12.000000   \n",
       "50%        53.000000      51.000000       3.000000      12.000000   \n",
       "75%        79.000000      73.000000       8.000000      12.000000   \n",
       "max       180.000000     100.000000      11.000000      15.000000   \n",
       "\n",
       "                side     shot_place   shot_outcome        is_goal  \\\n",
       "count  941009.000000  227459.000000  228498.000000  941009.000000   \n",
       "mean        1.481170       5.733693       1.926555       0.025978   \n",
       "std         0.499646       3.326100       0.797055       0.159071   \n",
       "min         1.000000       1.000000       1.000000       0.000000   \n",
       "25%         1.000000       2.000000       1.000000       0.000000   \n",
       "50%         1.000000       5.000000       2.000000       0.000000   \n",
       "75%         2.000000       9.000000       3.000000       0.000000   \n",
       "max         2.000000      13.000000       4.000000       1.000000   \n",
       "\n",
       "            location       bodypart  assist_method      situation  \\\n",
       "count  467067.000000  229185.000000  941009.000000  229137.000000   \n",
       "mean        6.209073       1.624831       0.264332       1.281316   \n",
       "std         5.421736       0.740400       0.655501       0.709394   \n",
       "min         1.000000       1.000000       0.000000       1.000000   \n",
       "25%         2.000000       1.000000       0.000000       1.000000   \n",
       "50%         3.000000       1.000000       0.000000       1.000000   \n",
       "75%        11.000000       2.000000       0.000000       1.000000   \n",
       "max        19.000000       3.000000       4.000000       4.000000   \n",
       "\n",
       "          fast_break  \n",
       "count  941009.000000  \n",
       "mean        0.004876  \n",
       "std         0.069655  \n",
       "min         0.000000  \n",
       "25%         0.000000  \n",
       "50%         0.000000  \n",
       "75%         0.000000  \n",
       "max         1.000000  "
      ]
     },
     "execution_count": 3,
     "metadata": {},
     "output_type": "execute_result"
    }
   ],
   "source": [
    "events.describe()"
   ]
  },
  {
   "cell_type": "markdown",
   "metadata": {},
   "source": [
    "We might be dealing with events that dont have a corresponding game in the ```ginf.csv``` table. So let's verify that first.\n",
    "\n",
    "We can check if there are any 'rogue events' by joining both tables on the game id and checking if there is any loss of rows.  "
   ]
  },
  {
   "cell_type": "code",
   "execution_count": 4,
   "metadata": {},
   "outputs": [
    {
     "name": "stdout",
     "output_type": "stream",
     "text": [
      "Number of events = 941009\n",
      "Number of events after merge = 941009\n"
     ]
    }
   ],
   "source": [
    "unique_games = games['id_odsp'].nunique()\n",
    "unique_documented_games = events['id_odsp'].nunique()\n",
    "event_number = events['id_odsp'].size\n",
    "print(f'Number of events = {event_number}')\n",
    "merged_size = pd.merge(events, games, right_on='id_odsp', left_on='id_odsp', how='inner')['id_odsp'].size\n",
    "print(f'Number of events after merge = {merged_size}')"
   ]
  },
  {
   "cell_type": "markdown",
   "metadata": {},
   "source": [
    "Since there were no lost events after the merge, we can rest assured that there are no rogue events in this dataset.\n",
    "\n",
    "The dataset's website also states that only around 90% of the games in ```ginf.csv``` have events in ```events.csv```."
   ]
  },
  {
   "cell_type": "code",
   "execution_count": 11,
   "metadata": {},
   "outputs": [
    {
     "name": "stdout",
     "output_type": "stream",
     "text": [
      "10112 unique games.\n",
      "9074 unique documented games.\n",
      "1038 unique undocumented games.\n",
      "89.73% of games are documented.\n"
     ]
    }
   ],
   "source": [
    "print(f'{unique_games} unique games.')\n",
    "print(f'{unique_documented_games} unique documented games.')\n",
    "print(f'{unique_games - unique_documented_games} unique undocumented games.')\n",
    "print(f'{unique_documented_games/unique_games * 100:.2f}% of games are documented.')"
   ]
  },
  {
   "cell_type": "markdown",
   "metadata": {},
   "source": [
    "# Inserir análise exploratória dos dados (distribuição por classes, distribuição de valores em cada atributo, etc."
   ]
  },
  {
   "cell_type": "markdown",
   "metadata": {},
   "source": [
    "# 3. Approach\n",
    "Inserir descrição do modelo"
   ]
  },
  {
   "cell_type": "code",
   "execution_count": 14,
   "metadata": {},
   "outputs": [],
   "source": [
    "#Useful imports\n",
    "import pandas as pd\n",
    "import numpy as np\n",
    "import matplotlib as plt\n",
    "from matplotlib import pyplot\n",
    "import scipy as sp\n",
    "import seaborn as sb\n",
    "import sklearn\n",
    "from sklearn.metrics import average_precision_score\n",
    "from sklearn.metrics import roc_auc_score\n",
    "from sklearn.model_selection import GridSearchCV\n",
    "from sklearn.model_selection import train_test_split\n",
    "from sklearn.metrics import classification_report,confusion_matrix,mean_squared_error, mean_absolute_error\n",
    "from sklearn.metrics import cohen_kappa_score\n",
    "from sklearn.tree import DecisionTreeClassifier\n",
    "from sklearn.ensemble import RandomForestRegressor\n",
    "from sklearn.linear_model import LogisticRegression\n",
    "from sklearn.neural_network import MLPClassifier, MLPRegressor\n",
    "from sklearn.tree import DecisionTreeRegressor\n",
    "from sklearn import tree"
   ]
  },
  {
   "cell_type": "markdown",
   "metadata": {},
   "source": [
    "In our model we want to predict the number of goals by a team in a match, therefore, the depedent variable is the number of goals by a team\n"
   ]
  },
  {
   "cell_type": "markdown",
   "metadata": {},
   "source": [
    "## 3.1. Preparing the data"
   ]
  },
  {
   "cell_type": "markdown",
   "metadata": {},
   "source": [
    "### 3.1.1 The xG Classifier"
   ]
  },
  {
   "cell_type": "code",
   "execution_count": 15,
   "metadata": {},
   "outputs": [],
   "source": [
    "shots = events[(events.event_type==1)]\n",
    "shots_prediction = shots.iloc[:,-6:]\n",
    "dummies = pd.get_dummies(shots_prediction, columns=['location', 'bodypart','assist_method', 'situation'])\n",
    "dummies.columns = ['is_goal', 'fast_break', 'loc_centre_box', 'loc_diff_angle_lr', 'diff_angle_left', 'diff_angle_right', 'left_side_box', 'left_side_6ybox', 'right_side_box', 'right_side_6ybox', 'close_range', 'penalty', 'outside_box', 'long_range', 'more_35y', 'more_40y', 'not_recorded', 'right_foot', 'left_foot', 'header', 'no_assist', 'assist_pass', 'assist_cross', 'assist_header', 'assist_through_ball', 'open_play', 'set_piece', 'corner', 'free_kick']"
   ]
  },
  {
   "cell_type": "code",
   "execution_count": 16,
   "metadata": {},
   "outputs": [],
   "source": [
    "X = dummies.iloc[:,1:]\n",
    "y = dummies.iloc[:,0]"
   ]
  },
  {
   "cell_type": "code",
   "execution_count": 17,
   "metadata": {},
   "outputs": [
    {
     "name": "stdout",
     "output_type": "stream",
     "text": [
      "CPU times: user 26.8 s, sys: 0 ns, total: 26.8 s\n",
      "Wall time: 26.8 s\n"
     ]
    },
    {
     "data": {
      "text/plain": [
       "MLPClassifier(activation='relu', alpha=0.0001, batch_size='auto', beta_1=0.9,\n",
       "              beta_2=0.999, early_stopping=False, epsilon=1e-08,\n",
       "              hidden_layer_sizes=(28, 28, 28, 28), learning_rate='constant',\n",
       "              learning_rate_init=0.001, max_fun=15000, max_iter=2000,\n",
       "              momentum=0.9, n_iter_no_change=10, nesterovs_momentum=True,\n",
       "              power_t=0.5, random_state=0, shuffle=True, solver='adam',\n",
       "              tol=0.0001, validation_fraction=0.1, verbose=False,\n",
       "              warm_start=False)"
      ]
     },
     "execution_count": 17,
     "metadata": {},
     "output_type": "execute_result"
    }
   ],
   "source": [
    "%%time\n",
    "X_train, X_test, y_train, y_test = train_test_split(X, y, test_size=0.35, random_state=1)\n",
    "mlp = MLPClassifier(random_state=0, hidden_layer_sizes=(28, 28, 28, 28), max_iter=2000, activation='relu')\n",
    "mlp.fit(X_train, y_train)"
   ]
  },
  {
   "cell_type": "code",
   "execution_count": 18,
   "metadata": {},
   "outputs": [
    {
     "name": "stdout",
     "output_type": "stream",
     "text": [
      "Confusion Matrix:\n",
      "[[70771   923]\n",
      " [ 6214  2290]]\n",
      "Report:\n",
      "              precision    recall  f1-score   support\n",
      "\n",
      "           0       0.92      0.99      0.95     71694\n",
      "           1       0.71      0.27      0.39      8504\n",
      "\n",
      "    accuracy                           0.91     80198\n",
      "   macro avg       0.82      0.63      0.67     80198\n",
      "weighted avg       0.90      0.91      0.89     80198\n",
      "\n",
      "The accuracy of classifying whether a shot is goal or not is 91.10 %.\n"
     ]
    }
   ],
   "source": [
    "predict = mlp.predict(X_test)\n",
    "print('Confusion Matrix:')\n",
    "print(confusion_matrix(y_test,predict))\n",
    "print('Report:')\n",
    "print(classification_report(y_test,predict))\n",
    "accuracy = mlp.score(X_test, y_test)\n",
    "print('The accuracy of classifying whether a shot is goal or not is {:.2f} %.'.format(accuracy*100))"
   ]
  },
  {
   "cell_type": "markdown",
   "metadata": {},
   "source": [
    "### 3.1.2. Analysing the xG classifier"
   ]
  },
  {
   "cell_type": "markdown",
   "metadata": {},
   "source": [
    "Unbalanced number of sample, way more missed shots than goals"
   ]
  },
  {
   "cell_type": "markdown",
   "metadata": {},
   "source": [
    "### 3.1.3. Assembling everything"
   ]
  },
  {
   "cell_type": "code",
   "execution_count": 29,
   "metadata": {},
   "outputs": [],
   "source": [
    "dummies['xG'] = mlp.predict_proba(X)[:,1]\n",
    "dummies = dummies[['xG']].copy()\n",
    "dataWithXG = shots.join(dummies[['xG']])\n",
    "matchXG = dataWithXG.groupby(['id_odsp', 'side'])['xG'].sum().reset_index()"
   ]
  },
  {
   "cell_type": "code",
   "execution_count": 30,
   "metadata": {},
   "outputs": [],
   "source": [
    "# Number of shots\n",
    "attempts = events[(events.event_type==1)]\n",
    "shotsSorted = attempts.groupby(['id_odsp', 'side']).count().reset_index()\n",
    "shotsClean = shotsSorted[['id_odsp', 'side', 'id_event']].rename(columns={\"id_event\":\"shot_count\"})\n",
    "\n",
    "# Number of corners\n",
    "corners = events[(events.event_type==2)]\n",
    "cornersSorted = corners.groupby(['id_odsp', 'side']).count().reset_index()\n",
    "cornersClean = cornersSorted[['id_odsp', 'side', 'id_event']].rename(columns={\"id_event\":\"corner_count\"})\n",
    "\n",
    "# Number of fouls\n",
    "fouls = events[(events.event_type==3)]\n",
    "foulsSorted = fouls.groupby(['id_odsp', 'side']).count().reset_index()\n",
    "foulsClean = foulsSorted[['id_odsp', 'side', 'id_event']].rename(columns={\"id_event\":\"foul_count\"})\n",
    "\n",
    "# Number of yellow cards\n",
    "yellow_cards = events[(events.event_type==4)]\n",
    "ycSorted = yellow_cards.groupby(['id_odsp', 'side']).count().reset_index()\n",
    "ycClean = ycSorted[['id_odsp', 'side', 'id_event']].rename(columns={\"id_event\":\"yellow_card_count\"})\n",
    "\n",
    "# Number of second yellow cards\n",
    "second_yellow_cards= events[(events.event_type==5)]\n",
    "sycSorted = second_yellow_cards.groupby(['id_odsp', 'side']).count().reset_index()\n",
    "sycClean = sycSorted[['id_odsp', 'side', 'id_event']].rename(columns={\"id_event\":\"second_yellow_card_count\"})\n",
    "\n",
    "# Number of red cards\n",
    "red_cards = events[(events.event_type==6)]\n",
    "redCardsSorted = red_cards.groupby(['id_odsp', 'side']).count().reset_index()\n",
    "redCardsClean = redCardsSorted[['id_odsp', 'side', 'id_event']].rename(columns={\"id_event\":\"red_card_count\"})\n",
    "\n",
    "# Number of freekicks\n",
    "free_kicks = events[(events.event_type==8)]\n",
    "fkSorted = free_kicks.groupby(['id_odsp', 'side']).count().reset_index()\n",
    "fkClean = fkSorted[['id_odsp', 'side', 'id_event']].rename(columns={\"id_event\":\"free_kick_count\"})\n",
    "\n",
    "# Number of offsides\n",
    "offsides = events[(events.event_type==9)].copy()\n",
    "offsidesSorted = offsides.groupby(['id_odsp', 'side']).count().reset_index()\n",
    "offsidesClean = offsidesSorted[['id_odsp', 'side', 'id_event']].rename(columns={\"id_event\":\"offside_count\"})\n",
    "\n"
   ]
  },
  {
   "cell_type": "code",
   "execution_count": 31,
   "metadata": {},
   "outputs": [],
   "source": [
    "#Joins results\n",
    "joinColumns = ['id_odsp', 'side']\n",
    "\n",
    "fullDataset = matchXG\n",
    "\n",
    "fullDataset = fullDataset.merge(shotsClean, on=joinColumns, how='left') \n",
    "fullDataset = fullDataset.merge(cornersClean, on=joinColumns, how='left') \n",
    "fullDataset = fullDataset.merge(ycClean, on=joinColumns, how='left') \n",
    "fullDataset = fullDataset.merge(sycClean, on=joinColumns, how='left') \n",
    "fullDataset = fullDataset.merge(redCardsClean, on=joinColumns, how='left') \n",
    "fullDataset = fullDataset.merge(fkClean, on=joinColumns, how='left') \n",
    "fullDataset = fullDataset.merge(offsidesClean, on=joinColumns, how='left') \n",
    "fullDataset= fullDataset.merge(events[['id_odsp', 'side', 'event_team']].drop_duplicates(), on=joinColumns, how='left')\n",
    "fullDataset = fullDataset.fillna(0)\n",
    "\n",
    "for column in fullDataset.columns:\n",
    "    if column.endswith('_count'):\n",
    "        fullDataset[column] = fullDataset[column].astype(int)\n",
    "\n",
    "\n",
    "\n"
   ]
  },
  {
   "cell_type": "code",
   "execution_count": 32,
   "metadata": {},
   "outputs": [],
   "source": [
    "homeGoals = games[['id_odsp', 'fthg']].rename(columns={'fthg':'goals'})\n",
    "homeGoals.insert(2, 'side', 1)\n",
    "awayGoals = games[['id_odsp', 'ftag']].rename(columns={'ftag':'goals'})\n",
    "awayGoals.insert(2, 'side', 2)\n",
    "totalGoals = homeGoals.append(awayGoals)\n",
    "fullDataset = fullDataset.merge(totalGoals, on=joinColumns, how='left')"
   ]
  },
  {
   "cell_type": "code",
   "execution_count": 33,
   "metadata": {},
   "outputs": [],
   "source": [
    "fullDataset['other_side'] = fullDataset['side'].apply(lambda x: 2 if x == 1 else 1)"
   ]
  },
  {
   "cell_type": "code",
   "execution_count": 34,
   "metadata": {},
   "outputs": [],
   "source": [
    "teamNames = fullDataset[['id_odsp', 'event_team', 'side']].rename(columns={'event_team':'other_event_team', 'side':'other_side'})\n",
    "fullDataset = fullDataset.merge(teamNames, on=['id_odsp', 'other_side'], how='left').drop(columns=['other_side'])"
   ]
  },
  {
   "cell_type": "code",
   "execution_count": 35,
   "metadata": {},
   "outputs": [
    {
     "data": {
      "text/html": [
       "<div>\n",
       "<style scoped>\n",
       "    .dataframe tbody tr th:only-of-type {\n",
       "        vertical-align: middle;\n",
       "    }\n",
       "\n",
       "    .dataframe tbody tr th {\n",
       "        vertical-align: top;\n",
       "    }\n",
       "\n",
       "    .dataframe thead th {\n",
       "        text-align: right;\n",
       "    }\n",
       "</style>\n",
       "<table border=\"1\" class=\"dataframe\">\n",
       "  <thead>\n",
       "    <tr style=\"text-align: right;\">\n",
       "      <th></th>\n",
       "      <th>id_odsp</th>\n",
       "      <th>side</th>\n",
       "      <th>xG</th>\n",
       "      <th>shot_count</th>\n",
       "      <th>corner_count</th>\n",
       "      <th>yellow_card_count</th>\n",
       "      <th>second_yellow_card_count</th>\n",
       "      <th>red_card_count</th>\n",
       "      <th>free_kick_count</th>\n",
       "      <th>offside_count</th>\n",
       "      <th>event_team</th>\n",
       "      <th>goals</th>\n",
       "      <th>other_event_team</th>\n",
       "    </tr>\n",
       "  </thead>\n",
       "  <tbody>\n",
       "    <tr>\n",
       "      <th>0</th>\n",
       "      <td>004f4ING/</td>\n",
       "      <td>1</td>\n",
       "      <td>1.413347</td>\n",
       "      <td>15</td>\n",
       "      <td>9</td>\n",
       "      <td>1</td>\n",
       "      <td>0</td>\n",
       "      <td>1</td>\n",
       "      <td>8</td>\n",
       "      <td>0</td>\n",
       "      <td>Southampton</td>\n",
       "      <td>0</td>\n",
       "      <td>Swansea</td>\n",
       "    </tr>\n",
       "    <tr>\n",
       "      <th>1</th>\n",
       "      <td>004f4ING/</td>\n",
       "      <td>2</td>\n",
       "      <td>0.453106</td>\n",
       "      <td>6</td>\n",
       "      <td>0</td>\n",
       "      <td>1</td>\n",
       "      <td>0</td>\n",
       "      <td>0</td>\n",
       "      <td>10</td>\n",
       "      <td>3</td>\n",
       "      <td>Swansea</td>\n",
       "      <td>1</td>\n",
       "      <td>Southampton</td>\n",
       "    </tr>\n",
       "    <tr>\n",
       "      <th>2</th>\n",
       "      <td>00LMl81F/</td>\n",
       "      <td>1</td>\n",
       "      <td>2.949324</td>\n",
       "      <td>24</td>\n",
       "      <td>13</td>\n",
       "      <td>2</td>\n",
       "      <td>0</td>\n",
       "      <td>0</td>\n",
       "      <td>14</td>\n",
       "      <td>0</td>\n",
       "      <td>AS Roma</td>\n",
       "      <td>2</td>\n",
       "      <td>AC Milan</td>\n",
       "    </tr>\n",
       "    <tr>\n",
       "      <th>3</th>\n",
       "      <td>00LMl81F/</td>\n",
       "      <td>2</td>\n",
       "      <td>1.608309</td>\n",
       "      <td>15</td>\n",
       "      <td>4</td>\n",
       "      <td>3</td>\n",
       "      <td>0</td>\n",
       "      <td>1</td>\n",
       "      <td>10</td>\n",
       "      <td>6</td>\n",
       "      <td>AC Milan</td>\n",
       "      <td>3</td>\n",
       "      <td>AS Roma</td>\n",
       "    </tr>\n",
       "    <tr>\n",
       "      <th>4</th>\n",
       "      <td>00OX4xFp/</td>\n",
       "      <td>1</td>\n",
       "      <td>1.166929</td>\n",
       "      <td>9</td>\n",
       "      <td>4</td>\n",
       "      <td>1</td>\n",
       "      <td>0</td>\n",
       "      <td>0</td>\n",
       "      <td>18</td>\n",
       "      <td>3</td>\n",
       "      <td>AS Monaco</td>\n",
       "      <td>0</td>\n",
       "      <td>Lille</td>\n",
       "    </tr>\n",
       "    <tr>\n",
       "      <th>...</th>\n",
       "      <td>...</td>\n",
       "      <td>...</td>\n",
       "      <td>...</td>\n",
       "      <td>...</td>\n",
       "      <td>...</td>\n",
       "      <td>...</td>\n",
       "      <td>...</td>\n",
       "      <td>...</td>\n",
       "      <td>...</td>\n",
       "      <td>...</td>\n",
       "      <td>...</td>\n",
       "      <td>...</td>\n",
       "      <td>...</td>\n",
       "    </tr>\n",
       "    <tr>\n",
       "      <th>18139</th>\n",
       "      <td>zyKwAQxf/</td>\n",
       "      <td>2</td>\n",
       "      <td>1.218277</td>\n",
       "      <td>13</td>\n",
       "      <td>3</td>\n",
       "      <td>2</td>\n",
       "      <td>0</td>\n",
       "      <td>0</td>\n",
       "      <td>9</td>\n",
       "      <td>2</td>\n",
       "      <td>Malaga</td>\n",
       "      <td>0</td>\n",
       "      <td>Celta Vigo</td>\n",
       "    </tr>\n",
       "    <tr>\n",
       "      <th>18140</th>\n",
       "      <td>zyrHmI8P/</td>\n",
       "      <td>1</td>\n",
       "      <td>2.183775</td>\n",
       "      <td>9</td>\n",
       "      <td>6</td>\n",
       "      <td>1</td>\n",
       "      <td>0</td>\n",
       "      <td>0</td>\n",
       "      <td>7</td>\n",
       "      <td>1</td>\n",
       "      <td>Valencia</td>\n",
       "      <td>4</td>\n",
       "      <td>Eibar</td>\n",
       "    </tr>\n",
       "    <tr>\n",
       "      <th>18141</th>\n",
       "      <td>zyrHmI8P/</td>\n",
       "      <td>2</td>\n",
       "      <td>1.008775</td>\n",
       "      <td>9</td>\n",
       "      <td>3</td>\n",
       "      <td>2</td>\n",
       "      <td>0</td>\n",
       "      <td>0</td>\n",
       "      <td>11</td>\n",
       "      <td>3</td>\n",
       "      <td>Eibar</td>\n",
       "      <td>0</td>\n",
       "      <td>Valencia</td>\n",
       "    </tr>\n",
       "    <tr>\n",
       "      <th>18142</th>\n",
       "      <td>zyzdxP10/</td>\n",
       "      <td>1</td>\n",
       "      <td>1.587103</td>\n",
       "      <td>13</td>\n",
       "      <td>3</td>\n",
       "      <td>1</td>\n",
       "      <td>0</td>\n",
       "      <td>0</td>\n",
       "      <td>12</td>\n",
       "      <td>3</td>\n",
       "      <td>Levante</td>\n",
       "      <td>2</td>\n",
       "      <td>Real Madrid</td>\n",
       "    </tr>\n",
       "    <tr>\n",
       "      <th>18143</th>\n",
       "      <td>zyzdxP10/</td>\n",
       "      <td>2</td>\n",
       "      <td>2.439499</td>\n",
       "      <td>27</td>\n",
       "      <td>8</td>\n",
       "      <td>3</td>\n",
       "      <td>0</td>\n",
       "      <td>0</td>\n",
       "      <td>17</td>\n",
       "      <td>4</td>\n",
       "      <td>Real Madrid</td>\n",
       "      <td>3</td>\n",
       "      <td>Levante</td>\n",
       "    </tr>\n",
       "  </tbody>\n",
       "</table>\n",
       "<p>18144 rows × 13 columns</p>\n",
       "</div>"
      ],
      "text/plain": [
       "         id_odsp  side        xG  shot_count  corner_count  yellow_card_count  \\\n",
       "0      004f4ING/     1  1.413347          15             9                  1   \n",
       "1      004f4ING/     2  0.453106           6             0                  1   \n",
       "2      00LMl81F/     1  2.949324          24            13                  2   \n",
       "3      00LMl81F/     2  1.608309          15             4                  3   \n",
       "4      00OX4xFp/     1  1.166929           9             4                  1   \n",
       "...          ...   ...       ...         ...           ...                ...   \n",
       "18139  zyKwAQxf/     2  1.218277          13             3                  2   \n",
       "18140  zyrHmI8P/     1  2.183775           9             6                  1   \n",
       "18141  zyrHmI8P/     2  1.008775           9             3                  2   \n",
       "18142  zyzdxP10/     1  1.587103          13             3                  1   \n",
       "18143  zyzdxP10/     2  2.439499          27             8                  3   \n",
       "\n",
       "       second_yellow_card_count  red_card_count  free_kick_count  \\\n",
       "0                             0               1                8   \n",
       "1                             0               0               10   \n",
       "2                             0               0               14   \n",
       "3                             0               1               10   \n",
       "4                             0               0               18   \n",
       "...                         ...             ...              ...   \n",
       "18139                         0               0                9   \n",
       "18140                         0               0                7   \n",
       "18141                         0               0               11   \n",
       "18142                         0               0               12   \n",
       "18143                         0               0               17   \n",
       "\n",
       "       offside_count   event_team  goals other_event_team  \n",
       "0                  0  Southampton      0          Swansea  \n",
       "1                  3      Swansea      1      Southampton  \n",
       "2                  0      AS Roma      2         AC Milan  \n",
       "3                  6     AC Milan      3          AS Roma  \n",
       "4                  3    AS Monaco      0            Lille  \n",
       "...              ...          ...    ...              ...  \n",
       "18139              2       Malaga      0       Celta Vigo  \n",
       "18140              1     Valencia      4            Eibar  \n",
       "18141              3        Eibar      0         Valencia  \n",
       "18142              3      Levante      2      Real Madrid  \n",
       "18143              4  Real Madrid      3          Levante  \n",
       "\n",
       "[18144 rows x 13 columns]"
      ]
     },
     "execution_count": 35,
     "metadata": {},
     "output_type": "execute_result"
    }
   ],
   "source": [
    "fullDataset"
   ]
  },
  {
   "cell_type": "markdown",
   "metadata": {},
   "source": [
    "## 3.2 Algorithms"
   ]
  },
  {
   "cell_type": "code",
   "execution_count": 25,
   "metadata": {},
   "outputs": [],
   "source": [
    "# for calculating F2 adjusted\n",
    "def adjusted_r2(r2, mod):\n",
    "    return (1 - (1 - r2) * ((mod.shape[0] - 1) / \n",
    "          (mod.shape[0] - mod.shape[1] - 1)))"
   ]
  },
  {
   "cell_type": "markdown",
   "metadata": {},
   "source": [
    "### 3.2.1 Decision Tree"
   ]
  },
  {
   "cell_type": "code",
   "execution_count": 26,
   "metadata": {},
   "outputs": [
    {
     "ename": "SyntaxError",
     "evalue": "invalid syntax (<fstring>, line 1)",
     "output_type": "error",
     "traceback": [
      "Traceback \u001b[0;36m(most recent call last)\u001b[0m:\n",
      "  File \u001b[1;32m\"/home/paulo/.local/lib/python3.7/site-packages/IPython/core/interactiveshell.py\"\u001b[0m, line \u001b[1;32m3331\u001b[0m, in \u001b[1;35mrun_code\u001b[0m\n    exec(code_obj, self.user_global_ns, self.user_ns)\n",
      "  File \u001b[1;32m\"<ipython-input-26-c5d101ab7a5a>\"\u001b[0m, line \u001b[1;32m1\u001b[0m, in \u001b[1;35m<module>\u001b[0m\n    get_ipython().run_cell_magic('time', '', \"fullXTrain, fullXTest, fullYTrain, fullYTest = train_test_split(fullX.drop(columns=['event_team', 'other_event_team']), fullY, test_size=0.35, random_state=1)\\ndecTree = tree.DecisionTreeRegressor(max_depth=5)\\ndecTree.fit(fullXTrain, fullYTrain)\\n\\n\\npredict = decTree.predict(fullXTest)\\nr2 = decTree.score(fullXTest, fullYTest)\\nabsErr = mean_absolute_error(fullYTest,predict)\\nsqErr = mean_squared_error(fullYTest,predict)\\nadjR2 = adjusted_r2(r2, fullXTest)\\n\\nprint(f'{r2=} {adjR2=} {absErr=} {sqErr=}')\\n\")\n",
      "  File \u001b[1;32m\"/home/paulo/.local/lib/python3.7/site-packages/IPython/core/interactiveshell.py\"\u001b[0m, line \u001b[1;32m2362\u001b[0m, in \u001b[1;35mrun_cell_magic\u001b[0m\n    result = fn(*args, **kwargs)\n",
      "  File \u001b[1;32m\"<decorator-gen-61>\"\u001b[0m, line \u001b[1;32m2\u001b[0m, in \u001b[1;35mtime\u001b[0m\n",
      "  File \u001b[1;32m\"/home/paulo/.local/lib/python3.7/site-packages/IPython/core/magic.py\"\u001b[0m, line \u001b[1;32m187\u001b[0m, in \u001b[1;35m<lambda>\u001b[0m\n    call = lambda f, *a, **k: f(*a, **k)\n",
      "  File \u001b[1;32m\"/home/paulo/.local/lib/python3.7/site-packages/IPython/core/magics/execution.py\"\u001b[0m, line \u001b[1;32m1268\u001b[0m, in \u001b[1;35mtime\u001b[0m\n    expr_ast = self.shell.compile.ast_parse(expr)\n",
      "\u001b[0;36m  File \u001b[0;32m\"/home/paulo/.local/lib/python3.7/site-packages/IPython/core/compilerop.py\"\u001b[0;36m, line \u001b[0;32m101\u001b[0;36m, in \u001b[0;35mast_parse\u001b[0;36m\u001b[0m\n\u001b[0;31m    return compile(source, filename, symbol, self.flags | PyCF_ONLY_AST, 1)\u001b[0m\n",
      "\u001b[0;36m  File \u001b[0;32m\"<fstring>\"\u001b[0;36m, line \u001b[0;32m1\u001b[0m\n\u001b[0;31m    (r2=)\u001b[0m\n\u001b[0m       ^\u001b[0m\n\u001b[0;31mSyntaxError\u001b[0m\u001b[0;31m:\u001b[0m invalid syntax\n"
     ]
    }
   ],
   "source": [
    "%%time\n",
    "fullXTrain, fullXTest, fullYTrain, fullYTest = train_test_split(fullX.drop(columns=['event_team', 'other_event_team']), fullY, test_size=0.35, random_state=1)\n",
    "decTree = tree.DecisionTreeRegressor(max_depth=5)\n",
    "decTree.fit(fullXTrain, fullYTrain)\n",
    "\n",
    "\n",
    "predict = decTree.predict(fullXTest)\n",
    "r2 = decTree.score(fullXTest, fullYTest)\n",
    "absErr = mean_absolute_error(fullYTest,predict)\n",
    "sqErr = mean_squared_error(fullYTest,predict)\n",
    "adjR2 = adjusted_r2(r2, fullXTest)\n",
    "\n",
    "print(f'{r2=} {adjR2=} {absErr=} {sqErr=}')"
   ]
  },
  {
   "cell_type": "markdown",
   "metadata": {},
   "source": [
    "### 3.2.2 Random Forest"
   ]
  },
  {
   "cell_type": "code",
   "execution_count": null,
   "metadata": {},
   "outputs": [],
   "source": [
    "%%time\n",
    "fullXTrain, fullXTest, fullYTrain, fullYTest = train_test_split(fullX.drop(columns=['event_team', 'other_event_team']), fullY, test_size=0.35, random_state=1)\n",
    "randForest = RandomForestRegressor(max_depth=5)\n",
    "randForest.fit(fullXTrain, fullYTrain)\n",
    "\n",
    "\n",
    "predict = randForest.predict(fullXTest)\n",
    "r2 = randForest.score(fullXTest, fullYTest)\n",
    "absErr = mean_absolute_error(fullYTest,predict)\n",
    "sqErr = mean_squared_error(fullYTest,predict)\n",
    "adjR2 = adjusted_r2(r2, fullXTest)\n",
    "\n",
    "print(f'{r2=} {adjR2=} {absErr=} {sqErr=}')"
   ]
  },
  {
   "cell_type": "markdown",
   "metadata": {},
   "source": [
    "### 3.2.3 Support vector machine"
   ]
  },
  {
   "cell_type": "code",
   "execution_count": null,
   "metadata": {},
   "outputs": [],
   "source": [
    "%%time\n",
    "from sklearn import svm\n",
    "fullXTrain, fullXTest, fullYTrain, fullYTest = train_test_split(fullX.drop(columns=['other_event_team','event_team']), fullY, test_size=0.35, random_state=1)\n",
    "svm = svm.LinearSVR(max_iter=40000)\n",
    "svm.fit(fullXTrain, fullYTrain)\n",
    "\n",
    "\n",
    "predict = svm.predict(fullXTest)\n",
    "r2 = svm.score(fullXTest, fullYTest)\n",
    "absErr = mean_absolute_error(fullYTest,predict)\n",
    "sqErr = mean_squared_error(fullYTest,predict)\n",
    "adjR2 = adjusted_r2(r2, fullXTest)\n",
    "\n",
    "print(f'{r2=} {adjR2=} {absErr=} {sqErr=}')"
   ]
  },
  {
   "cell_type": "markdown",
   "metadata": {},
   "source": [
    "### 3.2.4 Neural Network (Multiple layer perceptron)"
   ]
  },
  {
   "cell_type": "code",
   "execution_count": null,
   "metadata": {},
   "outputs": [],
   "source": [
    "%%time\n",
    "fullXTrain, fullXTest, fullYTrain, fullYTest = train_test_split(fullX.drop(columns=['other_event_team','event_team']), fullY, test_size=0.35, random_state=1)\n",
    "mlpReg = MLPRegressor()\n",
    "mlpReg.fit(fullXTrain, fullYTrain)\n",
    "\n",
    "\n",
    "predict = mlpReg.predict(fullXTest)\n",
    "r2 = mlpReg.score(fullXTest, fullYTest)\n",
    "absErr = mean_absolute_error(fullYTest,predict)\n",
    "sqErr = mean_squared_error(fullYTest,predict)\n",
    "adjR2 = adjusted_r2(r2, fullXTest)\n",
    "\n",
    "print(f'{r2=} {adjR2=} {absErr=} {sqErr=}')"
   ]
  },
  {
   "cell_type": "markdown",
   "metadata": {},
   "source": [
    "## 3.3 Added depedent variables - FALAR AQUI DAS TAGS DAS EQUIPAS"
   ]
  },
  {
   "cell_type": "markdown",
   "metadata": {},
   "source": [
    "# 4. Evaluation"
   ]
  },
  {
   "cell_type": "markdown",
   "metadata": {},
   "source": [
    "# 5. Conclusions\n",
    "\n",
    "The data set, and inherently the model, are flawed.\n",
    "In essence, football games present an extremelly non deterministic world. \n",
    "The number of goals a team scores doesn't depend only on the recorded statistics, it also depends on player health, team state of mind, factors that are foreign to the games like club internall conflicts, etc.\n",
    "\n",
    "This leads to situations were two games of a team that have exactly the same statistics will have different results, due to the circumstances of that time. \n",
    "It also makes it hard to find outliers as we can't choose which behaviour is normal.\n",
    "All of this added together makes regression models have a hard time being accurate.\n",
    "\n",
    "Another problem is that the dataset holds is missing some data that would be extremelly useful, like ball possession percentages."
   ]
  },
  {
   "cell_type": "markdown",
   "metadata": {},
   "source": [
    "### References"
   ]
  },
  {
   "cell_type": "markdown",
   "metadata": {},
   "source": []
  },
  {
   "cell_type": "code",
   "execution_count": null,
   "metadata": {},
   "outputs": [],
   "source": []
  }
 ],
 "metadata": {
  "kernelspec": {
   "display_name": "Python 3",
   "language": "python",
   "name": "python3"
  },
  "language_info": {
   "codemirror_mode": {
    "name": "ipython",
    "version": 3
   },
   "file_extension": ".py",
   "mimetype": "text/x-python",
   "name": "python",
   "nbconvert_exporter": "python",
   "pygments_lexer": "ipython3",
   "version": "3.7.5"
  }
 },
 "nbformat": 4,
 "nbformat_minor": 4
}
